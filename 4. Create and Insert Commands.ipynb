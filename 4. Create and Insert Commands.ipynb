{
 "cells": [
  {
   "cell_type": "markdown",
   "id": "e53b364c",
   "metadata": {},
   "source": [
    "### Creating Database in MySQL"
   ]
  },
  {
   "cell_type": "code",
   "execution_count": 3,
   "id": "74863e72",
   "metadata": {},
   "outputs": [],
   "source": [
    "from mysql.connector import connect"
   ]
  },
  {
   "cell_type": "code",
   "execution_count": 4,
   "id": "153b8422",
   "metadata": {},
   "outputs": [
    {
     "name": "stdout",
     "output_type": "stream",
     "text": [
      "database created\n"
     ]
    }
   ],
   "source": [
    "my_db=connect(host=\"localhost\", user=\"root\", password=\"Theuserdied@8\")\n",
    "\n",
    "my_cursor=my_db.cursor()\n",
    "\n",
    "my_cursor.execute(\"CREATE DATABASE PYSQL\")\n",
    "print(\"database created\")"
   ]
  },
  {
   "cell_type": "code",
   "execution_count": 5,
   "id": "5dc7cbda",
   "metadata": {},
   "outputs": [
    {
     "name": "stdout",
     "output_type": "stream",
     "text": [
      "('datatype',)\n",
      "('employee',)\n",
      "('hr',)\n",
      "('information_schema',)\n",
      "('my_info',)\n",
      "('mydb',)\n",
      "('mysql',)\n",
      "('northwind',)\n",
      "('online_seller',)\n",
      "('performance_schema',)\n",
      "('pizza',)\n",
      "('pysql',)\n",
      "('sslc_student_markshit',)\n",
      "('student',)\n",
      "('sys',)\n"
     ]
    }
   ],
   "source": [
    "my_cursor.execute(\"show databases\")\n",
    "for i in my_cursor:\n",
    "    print(i)"
   ]
  },
  {
   "cell_type": "markdown",
   "id": "103a947d",
   "metadata": {},
   "source": [
    "**You can see the pysql in the database list.**"
   ]
  },
  {
   "cell_type": "code",
   "execution_count": null,
   "id": "e6f6cb78",
   "metadata": {},
   "outputs": [],
   "source": []
  },
  {
   "cell_type": "markdown",
   "id": "7a60d5e6",
   "metadata": {},
   "source": [
    "### Creating table in selected database"
   ]
  },
  {
   "cell_type": "code",
   "execution_count": 17,
   "id": "54d3984d",
   "metadata": {},
   "outputs": [
    {
     "ename": "ProgrammingError",
     "evalue": "1050 (42S01): Table 'friends_info' already exists",
     "output_type": "error",
     "traceback": [
      "\u001b[1;31m---------------------------------------------------------------------------\u001b[0m",
      "\u001b[1;31mMySQLInterfaceError\u001b[0m                       Traceback (most recent call last)",
      "\u001b[1;32m~\\anaconda3\\lib\\site-packages\\mysql\\connector\\connection_cext.py\u001b[0m in \u001b[0;36mcmd_query\u001b[1;34m(self, query, raw, buffered, raw_as_string)\u001b[0m\n\u001b[0;32m    632\u001b[0m                 \u001b[0mquery\u001b[0m \u001b[1;33m=\u001b[0m \u001b[0mquery\u001b[0m\u001b[1;33m.\u001b[0m\u001b[0mencode\u001b[0m\u001b[1;33m(\u001b[0m\u001b[1;34m\"utf-8\"\u001b[0m\u001b[1;33m)\u001b[0m\u001b[1;33m\u001b[0m\u001b[1;33m\u001b[0m\u001b[0m\n\u001b[1;32m--> 633\u001b[1;33m             self._cmysql.query(\n\u001b[0m\u001b[0;32m    634\u001b[0m                 \u001b[0mquery\u001b[0m\u001b[1;33m,\u001b[0m\u001b[1;33m\u001b[0m\u001b[1;33m\u001b[0m\u001b[0m\n",
      "\u001b[1;31mMySQLInterfaceError\u001b[0m: Table 'friends_info' already exists",
      "\nThe above exception was the direct cause of the following exception:\n",
      "\u001b[1;31mProgrammingError\u001b[0m                          Traceback (most recent call last)",
      "\u001b[1;32m~\\AppData\\Local\\Temp/ipykernel_6532/1356893291.py\u001b[0m in \u001b[0;36m<module>\u001b[1;34m\u001b[0m\n\u001b[0;32m      3\u001b[0m \u001b[0mmy_cursor\u001b[0m\u001b[1;33m=\u001b[0m\u001b[0mmy_database\u001b[0m\u001b[1;33m.\u001b[0m\u001b[0mcursor\u001b[0m\u001b[1;33m(\u001b[0m\u001b[1;33m)\u001b[0m\u001b[1;33m\u001b[0m\u001b[1;33m\u001b[0m\u001b[0m\n\u001b[0;32m      4\u001b[0m \u001b[1;33m\u001b[0m\u001b[0m\n\u001b[1;32m----> 5\u001b[1;33m my_cursor.execute('''CREATE TABLE FRIENDS_INFO(\n\u001b[0m\u001b[0;32m      6\u001b[0m                  \u001b[0mNAME\u001b[0m \u001b[0mVARCHAR\u001b[0m\u001b[1;33m(\u001b[0m\u001b[1;36m20\u001b[0m\u001b[1;33m)\u001b[0m\u001b[1;33m,\u001b[0m\u001b[1;33m\u001b[0m\u001b[1;33m\u001b[0m\u001b[0m\n\u001b[0;32m      7\u001b[0m                  \u001b[0mMOBILE_NUMBER\u001b[0m \u001b[0mVARCHAR\u001b[0m\u001b[1;33m(\u001b[0m\u001b[1;36m10\u001b[0m\u001b[1;33m)\u001b[0m\u001b[1;33m,\u001b[0m\u001b[1;33m\u001b[0m\u001b[1;33m\u001b[0m\u001b[0m\n",
      "\u001b[1;32m~\\anaconda3\\lib\\site-packages\\mysql\\connector\\cursor_cext.py\u001b[0m in \u001b[0;36mexecute\u001b[1;34m(self, operation, params, multi)\u001b[0m\n\u001b[0;32m    328\u001b[0m \u001b[1;33m\u001b[0m\u001b[0m\n\u001b[0;32m    329\u001b[0m         \u001b[1;32mtry\u001b[0m\u001b[1;33m:\u001b[0m\u001b[1;33m\u001b[0m\u001b[1;33m\u001b[0m\u001b[0m\n\u001b[1;32m--> 330\u001b[1;33m             result = self._cnx.cmd_query(\n\u001b[0m\u001b[0;32m    331\u001b[0m                 \u001b[0mstmt\u001b[0m\u001b[1;33m,\u001b[0m\u001b[1;33m\u001b[0m\u001b[1;33m\u001b[0m\u001b[0m\n\u001b[0;32m    332\u001b[0m                 \u001b[0mraw\u001b[0m\u001b[1;33m=\u001b[0m\u001b[0mself\u001b[0m\u001b[1;33m.\u001b[0m\u001b[0m_raw\u001b[0m\u001b[1;33m,\u001b[0m\u001b[1;33m\u001b[0m\u001b[1;33m\u001b[0m\u001b[0m\n",
      "\u001b[1;32m~\\anaconda3\\lib\\site-packages\\mysql\\connector\\opentelemetry\\context_propagation.py\u001b[0m in \u001b[0;36mwrapper\u001b[1;34m(cnx, *args, **kwargs)\u001b[0m\n\u001b[0;32m     75\u001b[0m         \u001b[1;34m\"\"\"Context propagation decorator.\"\"\"\u001b[0m\u001b[1;33m\u001b[0m\u001b[1;33m\u001b[0m\u001b[0m\n\u001b[0;32m     76\u001b[0m         \u001b[1;32mif\u001b[0m \u001b[1;32mnot\u001b[0m \u001b[0mOTEL_ENABLED\u001b[0m \u001b[1;32mor\u001b[0m \u001b[1;32mnot\u001b[0m \u001b[0mcnx\u001b[0m\u001b[1;33m.\u001b[0m\u001b[0motel_context_propagation\u001b[0m\u001b[1;33m:\u001b[0m\u001b[1;33m\u001b[0m\u001b[1;33m\u001b[0m\u001b[0m\n\u001b[1;32m---> 77\u001b[1;33m             \u001b[1;32mreturn\u001b[0m \u001b[0mmethod\u001b[0m\u001b[1;33m(\u001b[0m\u001b[0mcnx\u001b[0m\u001b[1;33m,\u001b[0m \u001b[1;33m*\u001b[0m\u001b[0margs\u001b[0m\u001b[1;33m,\u001b[0m \u001b[1;33m**\u001b[0m\u001b[0mkwargs\u001b[0m\u001b[1;33m)\u001b[0m\u001b[1;33m\u001b[0m\u001b[1;33m\u001b[0m\u001b[0m\n\u001b[0m\u001b[0;32m     78\u001b[0m \u001b[1;33m\u001b[0m\u001b[0m\n\u001b[0;32m     79\u001b[0m         \u001b[0mcurrent_span\u001b[0m \u001b[1;33m=\u001b[0m \u001b[0mtrace\u001b[0m\u001b[1;33m.\u001b[0m\u001b[0mget_current_span\u001b[0m\u001b[1;33m(\u001b[0m\u001b[1;33m)\u001b[0m\u001b[1;33m\u001b[0m\u001b[1;33m\u001b[0m\u001b[0m\n",
      "\u001b[1;32m~\\anaconda3\\lib\\site-packages\\mysql\\connector\\connection_cext.py\u001b[0m in \u001b[0;36mcmd_query\u001b[1;34m(self, query, raw, buffered, raw_as_string)\u001b[0m\n\u001b[0;32m    639\u001b[0m             )\n\u001b[0;32m    640\u001b[0m         \u001b[1;32mexcept\u001b[0m \u001b[0mMySQLInterfaceError\u001b[0m \u001b[1;32mas\u001b[0m \u001b[0merr\u001b[0m\u001b[1;33m:\u001b[0m\u001b[1;33m\u001b[0m\u001b[1;33m\u001b[0m\u001b[0m\n\u001b[1;32m--> 641\u001b[1;33m             raise get_mysql_exception(\n\u001b[0m\u001b[0;32m    642\u001b[0m                 \u001b[0merr\u001b[0m\u001b[1;33m.\u001b[0m\u001b[0merrno\u001b[0m\u001b[1;33m,\u001b[0m \u001b[0mmsg\u001b[0m\u001b[1;33m=\u001b[0m\u001b[0merr\u001b[0m\u001b[1;33m.\u001b[0m\u001b[0mmsg\u001b[0m\u001b[1;33m,\u001b[0m \u001b[0msqlstate\u001b[0m\u001b[1;33m=\u001b[0m\u001b[0merr\u001b[0m\u001b[1;33m.\u001b[0m\u001b[0msqlstate\u001b[0m\u001b[1;33m\u001b[0m\u001b[1;33m\u001b[0m\u001b[0m\n\u001b[0;32m    643\u001b[0m             ) from err\n",
      "\u001b[1;31mProgrammingError\u001b[0m: 1050 (42S01): Table 'friends_info' already exists"
     ]
    }
   ],
   "source": [
    "my_database=connect(host=\"localhost\", user=\"root\", password=\"Theuserdied@8\", database=\"pysql\")\n",
    "\n",
    "my_cursor=my_database.cursor()\n",
    "\n",
    "my_cursor.execute('''CREATE TABLE FRIENDS_INFO(\n",
    "                 NAME VARCHAR(20),\n",
    "                 MOBILE_NUMBER VARCHAR(10),\n",
    "                 CITY VARCHAR(20))''')\n",
    "print(\"Table created successfuly\")"
   ]
  },
  {
   "cell_type": "code",
   "execution_count": 10,
   "id": "42dd1271",
   "metadata": {},
   "outputs": [],
   "source": []
  },
  {
   "cell_type": "markdown",
   "id": "6016ecb3",
   "metadata": {},
   "source": [
    "### Insert the records into table"
   ]
  },
  {
   "cell_type": "code",
   "execution_count": 18,
   "id": "6a448b41",
   "metadata": {},
   "outputs": [
    {
     "name": "stdout",
     "output_type": "stream",
     "text": [
      "Records inserted successfully\n"
     ]
    }
   ],
   "source": [
    "my_cursor.execute('''INSERT INTO FRIENDS_INFO\n",
    "                    VALUES(\"PRAKASH\",8722321637,\"RAICHUR\"),\n",
    "                          (\"BASAVRAJ\", 8382967234,\"BAGALKOTE\"),\n",
    "                          (\"SHIVRAJ\", 7492871637,\"BELGAUM\"),\n",
    "                          (\"DHANALAXMI\",8976412342,\"BANGALORE\"),\n",
    "                          (\"VAODEHI\",7835264527,\"NAGPUR\"),\n",
    "                          (\"MANJUSHA\",9809876452,\"PANJIM\"),\n",
    "                          (\"RIMA\",6787262598,\"MUMBAI\")''')\n",
    "print(\"Records inserted successfully\")"
   ]
  },
  {
   "cell_type": "code",
   "execution_count": 13,
   "id": "39a50a61",
   "metadata": {},
   "outputs": [],
   "source": [
    "import pandas as pd"
   ]
  },
  {
   "cell_type": "code",
   "execution_count": 19,
   "id": "fc173a19",
   "metadata": {},
   "outputs": [
    {
     "data": {
      "text/html": [
       "<div>\n",
       "<style scoped>\n",
       "    .dataframe tbody tr th:only-of-type {\n",
       "        vertical-align: middle;\n",
       "    }\n",
       "\n",
       "    .dataframe tbody tr th {\n",
       "        vertical-align: top;\n",
       "    }\n",
       "\n",
       "    .dataframe thead th {\n",
       "        text-align: right;\n",
       "    }\n",
       "</style>\n",
       "<table border=\"1\" class=\"dataframe\">\n",
       "  <thead>\n",
       "    <tr style=\"text-align: right;\">\n",
       "      <th></th>\n",
       "      <th>Name</th>\n",
       "      <th>Mobile_No</th>\n",
       "      <th>City</th>\n",
       "    </tr>\n",
       "  </thead>\n",
       "  <tbody>\n",
       "    <tr>\n",
       "      <th>0</th>\n",
       "      <td>PRAKASH</td>\n",
       "      <td>8722321637</td>\n",
       "      <td>RAICHUR</td>\n",
       "    </tr>\n",
       "    <tr>\n",
       "      <th>0</th>\n",
       "      <td>BASAVRAJ</td>\n",
       "      <td>8382967234</td>\n",
       "      <td>BAGALKOTE</td>\n",
       "    </tr>\n",
       "    <tr>\n",
       "      <th>0</th>\n",
       "      <td>SHIVRAJ</td>\n",
       "      <td>7492871637</td>\n",
       "      <td>BELGAUM</td>\n",
       "    </tr>\n",
       "    <tr>\n",
       "      <th>0</th>\n",
       "      <td>DHANALAXMI</td>\n",
       "      <td>8976412342</td>\n",
       "      <td>BANGALORE</td>\n",
       "    </tr>\n",
       "    <tr>\n",
       "      <th>0</th>\n",
       "      <td>VAODEHI</td>\n",
       "      <td>7835264527</td>\n",
       "      <td>NAGPUR</td>\n",
       "    </tr>\n",
       "    <tr>\n",
       "      <th>0</th>\n",
       "      <td>MANJUSHA</td>\n",
       "      <td>9809876452</td>\n",
       "      <td>PANJIM</td>\n",
       "    </tr>\n",
       "    <tr>\n",
       "      <th>0</th>\n",
       "      <td>RIMA</td>\n",
       "      <td>6787262598</td>\n",
       "      <td>MUMBAI</td>\n",
       "    </tr>\n",
       "  </tbody>\n",
       "</table>\n",
       "</div>"
      ],
      "text/plain": [
       "         Name   Mobile_No       City\n",
       "0     PRAKASH  8722321637    RAICHUR\n",
       "0    BASAVRAJ  8382967234  BAGALKOTE\n",
       "0     SHIVRAJ  7492871637    BELGAUM\n",
       "0  DHANALAXMI  8976412342  BANGALORE\n",
       "0     VAODEHI  7835264527     NAGPUR\n",
       "0    MANJUSHA  9809876452     PANJIM\n",
       "0        RIMA  6787262598     MUMBAI"
      ]
     },
     "execution_count": 19,
     "metadata": {},
     "output_type": "execute_result"
    }
   ],
   "source": [
    "my_cursor.execute(\"SELECT * FROM FRIENDS_INFO\")\n",
    "\n",
    "df=pd.DataFrame({\"Name\":[],\"Mobile_No\":[],\"City\":[]})\n",
    "\n",
    "for friend in my_cursor:\n",
    "    friend_df=pd.DataFrame({\"Name\":[friend[0]],\"Mobile_No\":[friend[1]],\"City\":[friend[2]]})\n",
    "    df=pd.concat((df,friend_df), axis=0)\n",
    "    \n",
    "df"
   ]
  },
  {
   "cell_type": "code",
   "execution_count": null,
   "id": "3b7190e6",
   "metadata": {},
   "outputs": [],
   "source": []
  }
 ],
 "metadata": {
  "kernelspec": {
   "display_name": "Python 3 (ipykernel)",
   "language": "python",
   "name": "python3"
  },
  "language_info": {
   "codemirror_mode": {
    "name": "ipython",
    "version": 3
   },
   "file_extension": ".py",
   "mimetype": "text/x-python",
   "name": "python",
   "nbconvert_exporter": "python",
   "pygments_lexer": "ipython3",
   "version": "3.9.7"
  }
 },
 "nbformat": 4,
 "nbformat_minor": 5
}
