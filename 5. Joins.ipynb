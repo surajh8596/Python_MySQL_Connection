{
 "cells": [
  {
   "cell_type": "markdown",
   "id": "7f1a6ba8",
   "metadata": {},
   "source": [
    "### Joins in MySQL"
   ]
  },
  {
   "cell_type": "markdown",
   "id": "b5fce85e",
   "metadata": {},
   "source": [
    "### 1. Inner Join"
   ]
  },
  {
   "cell_type": "code",
   "execution_count": 1,
   "id": "0f396189",
   "metadata": {},
   "outputs": [],
   "source": [
    "from mysql.connector import connect"
   ]
  },
  {
   "cell_type": "markdown",
   "id": "7a38fe34",
   "metadata": {},
   "source": [
    "#### Show those employees who has salary more than 5000. Return employee_id, first_name, department_name, salary."
   ]
  },
  {
   "cell_type": "code",
   "execution_count": 9,
   "id": "1d57c95c",
   "metadata": {
    "scrolled": false
   },
   "outputs": [
    {
     "name": "stdout",
     "output_type": "stream",
     "text": [
      "Employee_id            First_name            Department            Salary\n",
      "100                 Steven                 Executive                 24000.00\n",
      "101                 Neena                 Executive                 17000.00\n",
      "102                 Lex                 Executive                 17000.00\n",
      "103                 Alexander                 IT                 9000.00\n",
      "104                 Bruce                 IT                 6000.00\n",
      "108                 Nancy                 Finance                 12000.00\n",
      "109                 Daniel                 Finance                 9000.00\n",
      "110                 John                 Finance                 8200.00\n",
      "111                 Ismael                 Finance                 7700.00\n",
      "112                 Jose Manuel                 Finance                 7800.00\n",
      "113                 Luis                 Finance                 6900.00\n",
      "114                 Den                 Purchasing                 11000.00\n",
      "120                 Matthew                 Shipping                 8000.00\n",
      "121                 Adam                 Shipping                 8200.00\n",
      "122                 Payam                 Shipping                 7900.00\n",
      "123                 Shanta                 Shipping                 6500.00\n",
      "124                 Kevin                 Shipping                 5800.00\n",
      "145                 John                 Sales                 14000.00\n",
      "146                 Karen                 Sales                 13500.00\n",
      "147                 Alberto                 Sales                 12000.00\n",
      "148                 Gerald                 Sales                 11000.00\n",
      "149                 Eleni                 Sales                 10500.00\n",
      "150                 Peter                 Sales                 10000.00\n",
      "151                 David                 Sales                 9500.00\n",
      "152                 Peter                 Sales                 9000.00\n",
      "153                 Christopher                 Sales                 8000.00\n",
      "154                 Nanette                 Sales                 7500.00\n",
      "155                 Oliver                 Sales                 7000.00\n",
      "156                 Janette                 Sales                 10000.00\n",
      "157                 Patrick                 Sales                 9500.00\n",
      "158                 Allan                 Sales                 9000.00\n",
      "159                 Lindsey                 Sales                 8000.00\n",
      "160                 Louise                 Sales                 7500.00\n",
      "161                 Sarath                 Sales                 7000.00\n",
      "162                 Clara                 Sales                 10500.00\n",
      "163                 Danielle                 Sales                 9500.00\n",
      "164                 Mattea                 Sales                 7200.00\n",
      "165                 David                 Sales                 6800.00\n",
      "166                 Sundar                 Sales                 6400.00\n",
      "167                 Amit                 Sales                 6200.00\n",
      "168                 Lisa                 Sales                 11500.00\n",
      "169                 Harrison                 Sales                 10000.00\n",
      "170                 Tayler                 Sales                 9600.00\n",
      "171                 William                 Sales                 7400.00\n",
      "172                 Elizabeth                 Sales                 7300.00\n",
      "173                 Sundita                 Sales                 6100.00\n",
      "174                 Ellen                 Sales                 11000.00\n",
      "175                 Alyssa                 Sales                 8800.00\n",
      "176                 Jonathon                 Sales                 8600.00\n",
      "177                 Jack                 Sales                 8400.00\n",
      "179                 Charles                 Sales                 6200.00\n",
      "201                 Michael                 Marketing                 13000.00\n",
      "202                 Pat                 Marketing                 6000.00\n",
      "203                 Susan                 Human Resources                 6500.00\n",
      "204                 Hermann                 Public Relations                 10000.00\n",
      "205                 Shelley                 Accounting                 12000.00\n",
      "206                 William                 Accounting                 8300.00\n"
     ]
    }
   ],
   "source": [
    "my_db=connect(host=\"localhost\", user=\"root\", password=\"Theuserdied@8\", database=\"hr\")\n",
    "\n",
    "my_cursor=my_db.cursor()\n",
    "\n",
    "query='''SELECT A.employee_id, A.first_name, B.department_name, A.salary FROM EMPLOYEES AS A\n",
    "         INNER JOIN DEPARTMENTS AS B\n",
    "         ON A.DEPARTMENT_ID=B.DEPARTMENT_ID\n",
    "         WHERE SALARY>5000'''\n",
    "my_cursor.execute(query)\n",
    "\n",
    "print(\"Employee_id\", \" \"*10, \"First_name\", \" \"*10, \"Department\",\" \"*10, \"Salary\")\n",
    "for record in my_cursor:\n",
    "    print(record[0], \" \"*15, record[1], \" \"*15, record[2], \" \"*15, record[3])"
   ]
  },
  {
   "cell_type": "code",
   "execution_count": null,
   "id": "b5837e10",
   "metadata": {},
   "outputs": [],
   "source": []
  },
  {
   "cell_type": "markdown",
   "id": "4087a54c",
   "metadata": {},
   "source": [
    "### 2. Right Join"
   ]
  },
  {
   "cell_type": "code",
   "execution_count": 10,
   "id": "a98a0841",
   "metadata": {},
   "outputs": [
    {
     "name": "stdout",
     "output_type": "stream",
     "text": [
      "Employee_id            First_name            Department            Salary\n",
      "100                 Steven                 Executive                 24000.00\n",
      "101                 Neena                 Executive                 17000.00\n",
      "102                 Lex                 Executive                 17000.00\n",
      "103                 Alexander                 IT                 9000.00\n",
      "104                 Bruce                 IT                 6000.00\n",
      "108                 Nancy                 Finance                 12000.00\n",
      "109                 Daniel                 Finance                 9000.00\n",
      "110                 John                 Finance                 8200.00\n",
      "111                 Ismael                 Finance                 7700.00\n",
      "112                 Jose Manuel                 Finance                 7800.00\n",
      "113                 Luis                 Finance                 6900.00\n",
      "114                 Den                 Purchasing                 11000.00\n",
      "120                 Matthew                 Shipping                 8000.00\n",
      "121                 Adam                 Shipping                 8200.00\n",
      "122                 Payam                 Shipping                 7900.00\n",
      "123                 Shanta                 Shipping                 6500.00\n",
      "124                 Kevin                 Shipping                 5800.00\n",
      "145                 John                 Sales                 14000.00\n",
      "146                 Karen                 Sales                 13500.00\n",
      "147                 Alberto                 Sales                 12000.00\n",
      "148                 Gerald                 Sales                 11000.00\n",
      "149                 Eleni                 Sales                 10500.00\n",
      "150                 Peter                 Sales                 10000.00\n",
      "151                 David                 Sales                 9500.00\n",
      "152                 Peter                 Sales                 9000.00\n",
      "153                 Christopher                 Sales                 8000.00\n",
      "154                 Nanette                 Sales                 7500.00\n",
      "155                 Oliver                 Sales                 7000.00\n",
      "156                 Janette                 Sales                 10000.00\n",
      "157                 Patrick                 Sales                 9500.00\n",
      "158                 Allan                 Sales                 9000.00\n",
      "159                 Lindsey                 Sales                 8000.00\n",
      "160                 Louise                 Sales                 7500.00\n",
      "161                 Sarath                 Sales                 7000.00\n",
      "162                 Clara                 Sales                 10500.00\n",
      "163                 Danielle                 Sales                 9500.00\n",
      "164                 Mattea                 Sales                 7200.00\n",
      "165                 David                 Sales                 6800.00\n",
      "166                 Sundar                 Sales                 6400.00\n",
      "167                 Amit                 Sales                 6200.00\n",
      "168                 Lisa                 Sales                 11500.00\n",
      "169                 Harrison                 Sales                 10000.00\n",
      "170                 Tayler                 Sales                 9600.00\n",
      "171                 William                 Sales                 7400.00\n",
      "172                 Elizabeth                 Sales                 7300.00\n",
      "173                 Sundita                 Sales                 6100.00\n",
      "174                 Ellen                 Sales                 11000.00\n",
      "175                 Alyssa                 Sales                 8800.00\n",
      "176                 Jonathon                 Sales                 8600.00\n",
      "177                 Jack                 Sales                 8400.00\n",
      "179                 Charles                 Sales                 6200.00\n",
      "201                 Michael                 Marketing                 13000.00\n",
      "202                 Pat                 Marketing                 6000.00\n",
      "203                 Susan                 Human Resources                 6500.00\n",
      "204                 Hermann                 Public Relations                 10000.00\n",
      "205                 Shelley                 Accounting                 12000.00\n",
      "206                 William                 Accounting                 8300.00\n"
     ]
    }
   ],
   "source": [
    "query='''SELECT A.employee_id, A.first_name, B.department_name, A.salary FROM EMPLOYEES AS A\n",
    "         RIGHT JOIN DEPARTMENTS AS B\n",
    "         ON A.DEPARTMENT_ID=B.DEPARTMENT_ID\n",
    "         WHERE SALARY>5000'''\n",
    "my_cursor.execute(query)\n",
    "\n",
    "print(\"Employee_id\", \" \"*10, \"First_name\", \" \"*10, \"Department\",\" \"*10, \"Salary\")\n",
    "for record in my_cursor:\n",
    "    print(record[0], \" \"*15, record[1], \" \"*15, record[2], \" \"*15, record[3])"
   ]
  },
  {
   "cell_type": "code",
   "execution_count": null,
   "id": "d133af35",
   "metadata": {},
   "outputs": [],
   "source": []
  },
  {
   "cell_type": "markdown",
   "id": "40dcd2af",
   "metadata": {},
   "source": [
    "### 3. LEFT  Join"
   ]
  },
  {
   "cell_type": "code",
   "execution_count": 11,
   "id": "0460bfc3",
   "metadata": {},
   "outputs": [
    {
     "name": "stdout",
     "output_type": "stream",
     "text": [
      "Employee_id            First_name            Department            Salary\n",
      "100                 Steven                 Executive                 24000.00\n",
      "101                 Neena                 Executive                 17000.00\n",
      "102                 Lex                 Executive                 17000.00\n",
      "103                 Alexander                 IT                 9000.00\n",
      "104                 Bruce                 IT                 6000.00\n",
      "108                 Nancy                 Finance                 12000.00\n",
      "109                 Daniel                 Finance                 9000.00\n",
      "110                 John                 Finance                 8200.00\n",
      "111                 Ismael                 Finance                 7700.00\n",
      "112                 Jose Manuel                 Finance                 7800.00\n",
      "113                 Luis                 Finance                 6900.00\n",
      "114                 Den                 Purchasing                 11000.00\n",
      "120                 Matthew                 Shipping                 8000.00\n",
      "121                 Adam                 Shipping                 8200.00\n",
      "122                 Payam                 Shipping                 7900.00\n",
      "123                 Shanta                 Shipping                 6500.00\n",
      "124                 Kevin                 Shipping                 5800.00\n",
      "145                 John                 Sales                 14000.00\n",
      "146                 Karen                 Sales                 13500.00\n",
      "147                 Alberto                 Sales                 12000.00\n",
      "148                 Gerald                 Sales                 11000.00\n",
      "149                 Eleni                 Sales                 10500.00\n",
      "150                 Peter                 Sales                 10000.00\n",
      "151                 David                 Sales                 9500.00\n",
      "152                 Peter                 Sales                 9000.00\n",
      "153                 Christopher                 Sales                 8000.00\n",
      "154                 Nanette                 Sales                 7500.00\n",
      "155                 Oliver                 Sales                 7000.00\n",
      "156                 Janette                 Sales                 10000.00\n",
      "157                 Patrick                 Sales                 9500.00\n",
      "158                 Allan                 Sales                 9000.00\n",
      "159                 Lindsey                 Sales                 8000.00\n",
      "160                 Louise                 Sales                 7500.00\n",
      "161                 Sarath                 Sales                 7000.00\n",
      "162                 Clara                 Sales                 10500.00\n",
      "163                 Danielle                 Sales                 9500.00\n",
      "164                 Mattea                 Sales                 7200.00\n",
      "165                 David                 Sales                 6800.00\n",
      "166                 Sundar                 Sales                 6400.00\n",
      "167                 Amit                 Sales                 6200.00\n",
      "168                 Lisa                 Sales                 11500.00\n",
      "169                 Harrison                 Sales                 10000.00\n",
      "170                 Tayler                 Sales                 9600.00\n",
      "171                 William                 Sales                 7400.00\n",
      "172                 Elizabeth                 Sales                 7300.00\n",
      "173                 Sundita                 Sales                 6100.00\n",
      "174                 Ellen                 Sales                 11000.00\n",
      "175                 Alyssa                 Sales                 8800.00\n",
      "176                 Jonathon                 Sales                 8600.00\n",
      "177                 Jack                 Sales                 8400.00\n",
      "178                 Kimberely                 None                 7000.00\n",
      "179                 Charles                 Sales                 6200.00\n",
      "201                 Michael                 Marketing                 13000.00\n",
      "202                 Pat                 Marketing                 6000.00\n",
      "203                 Susan                 Human Resources                 6500.00\n",
      "204                 Hermann                 Public Relations                 10000.00\n",
      "205                 Shelley                 Accounting                 12000.00\n",
      "206                 William                 Accounting                 8300.00\n"
     ]
    }
   ],
   "source": [
    "query='''SELECT A.employee_id, A.first_name, B.department_name, A.salary FROM EMPLOYEES AS A\n",
    "         LEFT JOIN DEPARTMENTS AS B\n",
    "         ON A.DEPARTMENT_ID=B.DEPARTMENT_ID\n",
    "         WHERE SALARY>5000'''\n",
    "my_cursor.execute(query)\n",
    "\n",
    "print(\"Employee_id\", \" \"*10, \"First_name\", \" \"*10, \"Department\",\" \"*10, \"Salary\")\n",
    "for record in my_cursor:\n",
    "    print(record[0], \" \"*15, record[1], \" \"*15, record[2], \" \"*15, record[3])"
   ]
  },
  {
   "cell_type": "code",
   "execution_count": null,
   "id": "f0894e36",
   "metadata": {},
   "outputs": [],
   "source": []
  }
 ],
 "metadata": {
  "kernelspec": {
   "display_name": "Python 3 (ipykernel)",
   "language": "python",
   "name": "python3"
  },
  "language_info": {
   "codemirror_mode": {
    "name": "ipython",
    "version": 3
   },
   "file_extension": ".py",
   "mimetype": "text/x-python",
   "name": "python",
   "nbconvert_exporter": "python",
   "pygments_lexer": "ipython3",
   "version": "3.9.7"
  }
 },
 "nbformat": 4,
 "nbformat_minor": 5
}
