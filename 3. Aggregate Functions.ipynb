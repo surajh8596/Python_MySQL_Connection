{
 "cells": [
  {
   "cell_type": "markdown",
   "id": "593a392e",
   "metadata": {},
   "source": [
    "### 1. Count()"
   ]
  },
  {
   "cell_type": "code",
   "execution_count": 1,
   "id": "9feb2169",
   "metadata": {},
   "outputs": [],
   "source": [
    "from mysql.connector import connect"
   ]
  },
  {
   "cell_type": "markdown",
   "id": "6f93fa45",
   "metadata": {},
   "source": [
    "#### 1. Number of employees working in each department?"
   ]
  },
  {
   "cell_type": "code",
   "execution_count": 5,
   "id": "dff1cab2",
   "metadata": {},
   "outputs": [
    {
     "name": "stdout",
     "output_type": "stream",
     "text": [
      "Department_ID           Number_of_Employees\n",
      "None                      1\n",
      "10                      1\n",
      "20                      2\n",
      "30                      6\n",
      "40                      1\n",
      "50                      45\n",
      "60                      5\n",
      "70                      1\n",
      "80                      34\n",
      "90                      3\n",
      "100                      6\n",
      "110                      2\n"
     ]
    }
   ],
   "source": [
    "hr_db=connect(host='localhost', user='root', password='Theuserdied@8', database='hr')\n",
    "\n",
    "mycursor=hr_db.cursor()\n",
    "mycursor.execute(\"SELECT DEPARTMENT_ID, COUNT(EMPLOYEE_ID) FROM EMPLOYEES GROUP BY DEPARTMENT_ID\")\n",
    "\n",
    "print(\"Department_ID\",\"         \", \"Number_of_Employees\")\n",
    "for employee in mycursor:\n",
    "    print(employee[0],\" \"*20, employee[1])"
   ]
  },
  {
   "cell_type": "markdown",
   "id": "3b6bb424",
   "metadata": {},
   "source": [
    "#### 2. Number of employees working in different job"
   ]
  },
  {
   "cell_type": "code",
   "execution_count": 6,
   "id": "2d00ae69",
   "metadata": {},
   "outputs": [
    {
     "name": "stdout",
     "output_type": "stream",
     "text": [
      "Job_ID           Number_of_Employees\n",
      "AC_ACCOUNT                      1\n",
      "AC_MGR                      1\n",
      "AD_ASST                      1\n",
      "AD_PRES                      1\n",
      "AD_VP                      2\n",
      "FI_ACCOUNT                      5\n",
      "FI_MGR                      1\n",
      "HR_REP                      1\n",
      "IT_PROG                      5\n",
      "MK_MAN                      1\n",
      "MK_REP                      1\n",
      "PR_REP                      1\n",
      "PU_CLERK                      5\n",
      "PU_MAN                      1\n",
      "SA_MAN                      5\n",
      "SA_REP                      30\n",
      "SH_CLERK                      20\n",
      "ST_CLERK                      20\n",
      "ST_MAN                      5\n"
     ]
    }
   ],
   "source": [
    "mycursor.execute(\"SELECT Job_ID, COUNT(EMPLOYEE_ID) FROM EMPLOYEES GROUP BY job_ID\")\n",
    "\n",
    "print(\"Job_ID\",\"         \", \"Number_of_Employees\")\n",
    "for employee in mycursor:\n",
    "    print(employee[0],\" \"*20, employee[1])"
   ]
  },
  {
   "cell_type": "code",
   "execution_count": null,
   "id": "a3bee5bb",
   "metadata": {},
   "outputs": [],
   "source": []
  },
  {
   "cell_type": "markdown",
   "id": "96e3d877",
   "metadata": {},
   "source": [
    "### 2. Sum()"
   ]
  },
  {
   "cell_type": "markdown",
   "id": "bcf2c1ea",
   "metadata": {},
   "source": [
    "#### 1. Calculate sum of salary for each department"
   ]
  },
  {
   "cell_type": "code",
   "execution_count": 8,
   "id": "c29d6457",
   "metadata": {},
   "outputs": [
    {
     "name": "stdout",
     "output_type": "stream",
     "text": [
      "Department_ID           Sum_of_Salary\n",
      "None                      7000.00\n",
      "10                      4400.00\n",
      "20                      19000.00\n",
      "30                      24900.00\n",
      "40                      6500.00\n",
      "50                      156400.00\n",
      "60                      28800.00\n",
      "70                      10000.00\n",
      "80                      304500.00\n",
      "90                      58000.00\n",
      "100                      51600.00\n",
      "110                      20300.00\n"
     ]
    }
   ],
   "source": [
    "mycursor.execute(\"SELECT DEPARTMENT_ID, SUM(SALARY) FROM EMPLOYEES GROUP BY DEPARTMENT_ID\")\n",
    "\n",
    "print(\"Department_ID\",\"         \", \"Sum_of_Salary\")\n",
    "for employee in mycursor:\n",
    "    print(employee[0],\" \"*20, employee[1])"
   ]
  },
  {
   "cell_type": "markdown",
   "id": "1ce12245",
   "metadata": {},
   "source": [
    "#### 2. Calculate total commission perentage for each department"
   ]
  },
  {
   "cell_type": "code",
   "execution_count": 9,
   "id": "01bf5267",
   "metadata": {},
   "outputs": [
    {
     "name": "stdout",
     "output_type": "stream",
     "text": [
      "Department_ID           Sum_of_commission\n",
      "None                      0.15\n",
      "10                      None\n",
      "20                      None\n",
      "30                      None\n",
      "40                      None\n",
      "50                      None\n",
      "60                      None\n",
      "70                      None\n",
      "80                      7.65\n",
      "90                      None\n",
      "100                      None\n",
      "110                      None\n"
     ]
    }
   ],
   "source": [
    "mycursor.execute(\"SELECT DEPARTMENT_ID, SUM(COMMISSION_PCT) FROM EMPLOYEES GROUP BY DEPARTMENT_ID\")\n",
    "\n",
    "print(\"Department_ID\",\"         \", \"Sum_of_commission\")\n",
    "for employee in mycursor:\n",
    "    print(employee[0],\" \"*20, employee[1])"
   ]
  },
  {
   "cell_type": "code",
   "execution_count": null,
   "id": "fdbe6bc2",
   "metadata": {},
   "outputs": [],
   "source": []
  },
  {
   "cell_type": "markdown",
   "id": "bab34fb8",
   "metadata": {},
   "source": [
    "### 3. Min(), Max()"
   ]
  },
  {
   "cell_type": "markdown",
   "id": "9f37c69b",
   "metadata": {},
   "source": [
    "#### 1. Calculate minimum and maximum salary for each department"
   ]
  },
  {
   "cell_type": "code",
   "execution_count": 12,
   "id": "8a8e5412",
   "metadata": {},
   "outputs": [
    {
     "name": "stdout",
     "output_type": "stream",
     "text": [
      "Department_ID      Minimum_Salary      Maximum_Salary\n",
      "None              7000.00              7000.00\n",
      "10              4400.00              4400.00\n",
      "20              6000.00              13000.00\n",
      "30              2500.00              11000.00\n",
      "40              6500.00              6500.00\n",
      "50              2100.00              8200.00\n",
      "60              4200.00              9000.00\n",
      "70              10000.00              10000.00\n",
      "80              6100.00              14000.00\n",
      "90              17000.00              24000.00\n",
      "100              6900.00              12000.00\n",
      "110              8300.00              12000.00\n"
     ]
    }
   ],
   "source": [
    "mycursor.execute(\"SELECT DEPARTMENT_ID, MIN(SALARY), MAX(SALARY) FROM EMPLOYEES GROUP BY DEPARTMENT_ID\")\n",
    "\n",
    "print(\"Department_ID\",\"    \", \"Minimum_Salary\",\"    \", \"Maximum_Salary\")\n",
    "for employee in mycursor:\n",
    "    print(employee[0],\" \"*12, employee[1],\" \"*12, employee[2])"
   ]
  },
  {
   "cell_type": "code",
   "execution_count": null,
   "id": "bbe1a10a",
   "metadata": {},
   "outputs": [],
   "source": []
  },
  {
   "cell_type": "markdown",
   "id": "2e7c7c73",
   "metadata": {},
   "source": [
    "### 4. Avg()"
   ]
  },
  {
   "cell_type": "markdown",
   "id": "da4a6375",
   "metadata": {},
   "source": [
    "#### 1. Calculate average salary for each job role?"
   ]
  },
  {
   "cell_type": "code",
   "execution_count": 14,
   "id": "c91e0778",
   "metadata": {},
   "outputs": [
    {
     "name": "stdout",
     "output_type": "stream",
     "text": [
      "Job_ID           Average_Salary\n",
      "AC_ACCOUNT              8300.000000\n",
      "AC_MGR              12000.000000\n",
      "AD_ASST              4400.000000\n",
      "AD_PRES              24000.000000\n",
      "AD_VP              17000.000000\n",
      "FI_ACCOUNT              7920.000000\n",
      "FI_MGR              12000.000000\n",
      "HR_REP              6500.000000\n",
      "IT_PROG              5760.000000\n",
      "MK_MAN              13000.000000\n",
      "MK_REP              6000.000000\n",
      "PR_REP              10000.000000\n",
      "PU_CLERK              2780.000000\n",
      "PU_MAN              11000.000000\n",
      "SA_MAN              12200.000000\n",
      "SA_REP              8350.000000\n",
      "SH_CLERK              3215.000000\n",
      "ST_CLERK              2785.000000\n",
      "ST_MAN              7280.000000\n"
     ]
    }
   ],
   "source": [
    "mycursor.execute(\"SELECT JOB_ID, AVG(SALARY) FROM EMPLOYEES GROUP BY JOB_ID\")\n",
    "\n",
    "print(\"Job_ID\",\"         \", \"Average_Salary\")\n",
    "for employee in mycursor:\n",
    "    print(employee[0],\" \"*12, employee[1])"
   ]
  },
  {
   "cell_type": "code",
   "execution_count": null,
   "id": "711bf973",
   "metadata": {},
   "outputs": [],
   "source": []
  },
  {
   "cell_type": "markdown",
   "id": "f22cfbfa",
   "metadata": {},
   "source": [
    "### 5. Round()"
   ]
  },
  {
   "cell_type": "code",
   "execution_count": 15,
   "id": "d1ef0657",
   "metadata": {},
   "outputs": [
    {
     "name": "stdout",
     "output_type": "stream",
     "text": [
      "Job_ID           Average_Salary\n",
      "AC_ACCOUNT              8300.00\n",
      "AC_MGR              12000.00\n",
      "AD_ASST              4400.00\n",
      "AD_PRES              24000.00\n",
      "AD_VP              17000.00\n",
      "FI_ACCOUNT              7920.00\n",
      "FI_MGR              12000.00\n",
      "HR_REP              6500.00\n",
      "IT_PROG              5760.00\n",
      "MK_MAN              13000.00\n",
      "MK_REP              6000.00\n",
      "PR_REP              10000.00\n",
      "PU_CLERK              2780.00\n",
      "PU_MAN              11000.00\n",
      "SA_MAN              12200.00\n",
      "SA_REP              8350.00\n",
      "SH_CLERK              3215.00\n",
      "ST_CLERK              2785.00\n",
      "ST_MAN              7280.00\n"
     ]
    }
   ],
   "source": [
    "mycursor.execute(\"SELECT JOB_ID, ROUND(AVG(SALARY),2) FROM EMPLOYEES GROUP BY JOB_ID\")\n",
    "\n",
    "print(\"Job_ID\",\"         \", \"Average_Salary\")\n",
    "for employee in mycursor:\n",
    "    print(employee[0],\" \"*12, employee[1])"
   ]
  },
  {
   "cell_type": "code",
   "execution_count": null,
   "id": "450e43b8",
   "metadata": {},
   "outputs": [],
   "source": []
  },
  {
   "cell_type": "markdown",
   "id": "dfcae7b8",
   "metadata": {},
   "source": [
    "### 6. Distinct()"
   ]
  },
  {
   "cell_type": "markdown",
   "id": "ccba5bfc",
   "metadata": {},
   "source": [
    "#### Total employees working in a company."
   ]
  },
  {
   "cell_type": "code",
   "execution_count": 18,
   "id": "1929669e",
   "metadata": {},
   "outputs": [
    {
     "name": "stdout",
     "output_type": "stream",
     "text": [
      "Number of employees\n",
      "107\n"
     ]
    }
   ],
   "source": [
    "mycursor.execute(\"SELECT COUNT(DISTINCT EMPLOYEE_ID) FROM EMPLOYEES\")\n",
    "\n",
    "print(\"Number of employees\")\n",
    "for employee in mycursor:\n",
    "    print(employee[0])"
   ]
  },
  {
   "cell_type": "code",
   "execution_count": null,
   "id": "1507378f",
   "metadata": {},
   "outputs": [],
   "source": []
  }
 ],
 "metadata": {
  "kernelspec": {
   "display_name": "Python 3 (ipykernel)",
   "language": "python",
   "name": "python3"
  },
  "language_info": {
   "codemirror_mode": {
    "name": "ipython",
    "version": 3
   },
   "file_extension": ".py",
   "mimetype": "text/x-python",
   "name": "python",
   "nbconvert_exporter": "python",
   "pygments_lexer": "ipython3",
   "version": "3.9.7"
  }
 },
 "nbformat": 4,
 "nbformat_minor": 5
}
