{
 "cells": [
  {
   "cell_type": "markdown",
   "id": "609f7a3a",
   "metadata": {},
   "source": [
    "### First step is install connector for mysql."
   ]
  },
  {
   "cell_type": "code",
   "execution_count": 1,
   "id": "5a7179e9",
   "metadata": {},
   "outputs": [],
   "source": [
    "#pip install mysql-connector-python"
   ]
  },
  {
   "cell_type": "markdown",
   "id": "3b9d872e",
   "metadata": {},
   "source": [
    "### Now the connector is installed, import it to use"
   ]
  },
  {
   "cell_type": "code",
   "execution_count": 1,
   "id": "0c022087",
   "metadata": {},
   "outputs": [],
   "source": [
    "from mysql.connector import connect"
   ]
  },
  {
   "cell_type": "markdown",
   "id": "9818d1d5",
   "metadata": {},
   "source": [
    "### Lets connect the python to mysql. To do so we need MySQL user name, password, local host"
   ]
  },
  {
   "cell_type": "code",
   "execution_count": 19,
   "id": "6156733a",
   "metadata": {},
   "outputs": [
    {
     "name": "stdout",
     "output_type": "stream",
     "text": [
      "Connection enstablished successfully\n"
     ]
    }
   ],
   "source": [
    "connection=connect(host=\"localhost\", user=\"root\", password=\"Theuserdied@8\")\n",
    "print(\"Connection enstablished successfully\")"
   ]
  },
  {
   "cell_type": "markdown",
   "id": "223f6ca2",
   "metadata": {},
   "source": [
    "### Instantiates and returns a cursor using C Extension"
   ]
  },
  {
   "cell_type": "code",
   "execution_count": 20,
   "id": "099383d8",
   "metadata": {},
   "outputs": [],
   "source": [
    "mycursor=connection.cursor()"
   ]
  },
  {
   "cell_type": "markdown",
   "id": "680b2110",
   "metadata": {},
   "source": [
    "### Lets see the database names in mysql"
   ]
  },
  {
   "cell_type": "code",
   "execution_count": 21,
   "id": "cc769a14",
   "metadata": {},
   "outputs": [
    {
     "name": "stdout",
     "output_type": "stream",
     "text": [
      "('datatype',)\n",
      "('employee',)\n",
      "('hr',)\n",
      "('information_schema',)\n",
      "('my_info',)\n",
      "('mydb',)\n",
      "('mysql',)\n",
      "('northwind',)\n",
      "('online_seller',)\n",
      "('performance_schema',)\n",
      "('pizza',)\n",
      "('sslc_student_markshit',)\n",
      "('student',)\n",
      "('sys',)\n"
     ]
    }
   ],
   "source": [
    "mycursor.execute(\"show databases\")\n",
    "\n",
    "for database in mycursor:\n",
    "    print(database)"
   ]
  },
  {
   "cell_type": "code",
   "execution_count": null,
   "id": "07f4c08c",
   "metadata": {},
   "outputs": [],
   "source": []
  },
  {
   "cell_type": "markdown",
   "id": "beca725b",
   "metadata": {},
   "source": [
    "### Lets connect to one of database"
   ]
  },
  {
   "cell_type": "code",
   "execution_count": 6,
   "id": "ea78fce0",
   "metadata": {},
   "outputs": [
    {
     "name": "stdout",
     "output_type": "stream",
     "text": [
      "Connection enstablished successfully\n"
     ]
    }
   ],
   "source": [
    "hr_db=connect(host=\"localhost\", user=\"root\", password=\"Theuserdied@8\", database=\"hr\")\n",
    "print(\"Connection enstablished successfully\")"
   ]
  },
  {
   "cell_type": "markdown",
   "id": "21615e75",
   "metadata": {},
   "source": [
    "### Fetching all records from one table"
   ]
  },
  {
   "cell_type": "code",
   "execution_count": 9,
   "id": "7a1636a6",
   "metadata": {
    "scrolled": false
   },
   "outputs": [
    {
     "name": "stdout",
     "output_type": "stream",
     "text": [
      "(1000, '1297 Via Cola di Rie', '00989', 'Roma', None, 'IT')\n",
      "(1100, '93091 Calle della Testa', '10934', 'Venice', None, 'IT')\n",
      "(1200, '2017 Shinjuku-ku', '1689', 'Tokyo', 'Tokyo Prefecture', 'JP')\n",
      "(1300, '9450 Kamiya-cho', '6823', 'Hiroshima', None, 'JP')\n",
      "(1400, '2014 Jabberwocky Rd', '26192', 'Southlake', 'Texas', 'US')\n",
      "(1500, '2011 Interiors Blvd', '99236', 'South San Francisco', 'California', 'US')\n",
      "(1600, '2007 Zagora St', '50090', 'South Brunswick', 'New Jersey', 'US')\n",
      "(1700, '2004 Charade Rd', '98199', 'Seattle', 'Washington', 'US')\n",
      "(1800, '147 Spadina Ave', 'M5V 2L7', 'Toronto', 'Ontario', 'CA')\n",
      "(1900, '6092 Boxwood St', 'YSW 9T2', 'Whitehorse', 'Yukon', 'CA')\n",
      "(2000, '40-5-12 Laogianggen', '190518', 'Beijing', None, 'CN')\n",
      "(2100, '1298 Vileparle (E)', '490231', 'Bombay', 'Maharashtra', 'IN')\n",
      "(2200, '12-98 Victoria Street', '2901', 'Sydney', 'New South Wales', 'AU')\n",
      "(2300, '198 Clementi North', '540198', 'Singapore', None, 'SG')\n",
      "(2400, '8204 Arthur St', None, 'London', None, 'UK')\n",
      "(2500, 'Magdalen Centre, The Oxford Science Park', 'OX9 9ZB', 'Oxford', 'Oxford', 'UK')\n",
      "(2600, '9702 Chester Road', '09629850293', 'Stretford', 'Manchester', 'UK')\n",
      "(2700, 'Schwanthalerstr. 7031', '80925', 'Munich', 'Bavaria', 'DE')\n",
      "(2800, 'Rua Frei Caneca 1360 ', '01307-002', 'Sao Paulo', 'Sao Paulo', 'BR')\n",
      "(2900, '20 Rue des Corps-Saints', '1730', 'Geneva', 'Geneve', 'CH')\n",
      "(3000, 'Murtenstrasse 921', '3095', 'Bern', 'BE', 'CH')\n",
      "(3100, 'Pieter Breughelstraat 837', '3029SK', 'Utrecht', 'Utrecht', 'NL')\n",
      "(3200, 'Mariano Escobedo 9991', '11932', 'Mexico City', 'Distrito Federal,', 'MX')\n"
     ]
    }
   ],
   "source": [
    "mycursor=hr_db.cursor()\n",
    "mycursor.execute(\"SELECT * FROM locations\")\n",
    "result=mycursor.fetchall()\n",
    "for records in result:\n",
    "    print(records)"
   ]
  },
  {
   "cell_type": "markdown",
   "id": "12551d94",
   "metadata": {},
   "source": [
    "### Fetch selected fields from table"
   ]
  },
  {
   "cell_type": "code",
   "execution_count": 12,
   "id": "70a3e772",
   "metadata": {},
   "outputs": [],
   "source": [
    "import pandas as pd"
   ]
  },
  {
   "cell_type": "code",
   "execution_count": 18,
   "id": "1ae83692",
   "metadata": {},
   "outputs": [
    {
     "data": {
      "text/html": [
       "<div>\n",
       "<style scoped>\n",
       "    .dataframe tbody tr th:only-of-type {\n",
       "        vertical-align: middle;\n",
       "    }\n",
       "\n",
       "    .dataframe tbody tr th {\n",
       "        vertical-align: top;\n",
       "    }\n",
       "\n",
       "    .dataframe thead th {\n",
       "        text-align: right;\n",
       "    }\n",
       "</style>\n",
       "<table border=\"1\" class=\"dataframe\">\n",
       "  <thead>\n",
       "    <tr style=\"text-align: right;\">\n",
       "      <th></th>\n",
       "      <th>Location_id</th>\n",
       "      <th>Country_id</th>\n",
       "    </tr>\n",
       "  </thead>\n",
       "  <tbody>\n",
       "    <tr>\n",
       "      <th>0</th>\n",
       "      <td>2200.0</td>\n",
       "      <td>AU</td>\n",
       "    </tr>\n",
       "    <tr>\n",
       "      <th>0</th>\n",
       "      <td>2800.0</td>\n",
       "      <td>BR</td>\n",
       "    </tr>\n",
       "    <tr>\n",
       "      <th>0</th>\n",
       "      <td>1800.0</td>\n",
       "      <td>CA</td>\n",
       "    </tr>\n",
       "    <tr>\n",
       "      <th>0</th>\n",
       "      <td>1900.0</td>\n",
       "      <td>CA</td>\n",
       "    </tr>\n",
       "    <tr>\n",
       "      <th>0</th>\n",
       "      <td>2900.0</td>\n",
       "      <td>CH</td>\n",
       "    </tr>\n",
       "    <tr>\n",
       "      <th>0</th>\n",
       "      <td>3000.0</td>\n",
       "      <td>CH</td>\n",
       "    </tr>\n",
       "    <tr>\n",
       "      <th>0</th>\n",
       "      <td>2000.0</td>\n",
       "      <td>CN</td>\n",
       "    </tr>\n",
       "    <tr>\n",
       "      <th>0</th>\n",
       "      <td>2700.0</td>\n",
       "      <td>DE</td>\n",
       "    </tr>\n",
       "    <tr>\n",
       "      <th>0</th>\n",
       "      <td>2100.0</td>\n",
       "      <td>IN</td>\n",
       "    </tr>\n",
       "    <tr>\n",
       "      <th>0</th>\n",
       "      <td>1000.0</td>\n",
       "      <td>IT</td>\n",
       "    </tr>\n",
       "    <tr>\n",
       "      <th>0</th>\n",
       "      <td>1100.0</td>\n",
       "      <td>IT</td>\n",
       "    </tr>\n",
       "    <tr>\n",
       "      <th>0</th>\n",
       "      <td>1200.0</td>\n",
       "      <td>JP</td>\n",
       "    </tr>\n",
       "    <tr>\n",
       "      <th>0</th>\n",
       "      <td>1300.0</td>\n",
       "      <td>JP</td>\n",
       "    </tr>\n",
       "    <tr>\n",
       "      <th>0</th>\n",
       "      <td>3200.0</td>\n",
       "      <td>MX</td>\n",
       "    </tr>\n",
       "    <tr>\n",
       "      <th>0</th>\n",
       "      <td>3100.0</td>\n",
       "      <td>NL</td>\n",
       "    </tr>\n",
       "    <tr>\n",
       "      <th>0</th>\n",
       "      <td>2300.0</td>\n",
       "      <td>SG</td>\n",
       "    </tr>\n",
       "    <tr>\n",
       "      <th>0</th>\n",
       "      <td>2400.0</td>\n",
       "      <td>UK</td>\n",
       "    </tr>\n",
       "    <tr>\n",
       "      <th>0</th>\n",
       "      <td>2500.0</td>\n",
       "      <td>UK</td>\n",
       "    </tr>\n",
       "    <tr>\n",
       "      <th>0</th>\n",
       "      <td>2600.0</td>\n",
       "      <td>UK</td>\n",
       "    </tr>\n",
       "    <tr>\n",
       "      <th>0</th>\n",
       "      <td>1400.0</td>\n",
       "      <td>US</td>\n",
       "    </tr>\n",
       "    <tr>\n",
       "      <th>0</th>\n",
       "      <td>1500.0</td>\n",
       "      <td>US</td>\n",
       "    </tr>\n",
       "    <tr>\n",
       "      <th>0</th>\n",
       "      <td>1600.0</td>\n",
       "      <td>US</td>\n",
       "    </tr>\n",
       "    <tr>\n",
       "      <th>0</th>\n",
       "      <td>1700.0</td>\n",
       "      <td>US</td>\n",
       "    </tr>\n",
       "  </tbody>\n",
       "</table>\n",
       "</div>"
      ],
      "text/plain": [
       "   Location_id Country_id\n",
       "0       2200.0         AU\n",
       "0       2800.0         BR\n",
       "0       1800.0         CA\n",
       "0       1900.0         CA\n",
       "0       2900.0         CH\n",
       "0       3000.0         CH\n",
       "0       2000.0         CN\n",
       "0       2700.0         DE\n",
       "0       2100.0         IN\n",
       "0       1000.0         IT\n",
       "0       1100.0         IT\n",
       "0       1200.0         JP\n",
       "0       1300.0         JP\n",
       "0       3200.0         MX\n",
       "0       3100.0         NL\n",
       "0       2300.0         SG\n",
       "0       2400.0         UK\n",
       "0       2500.0         UK\n",
       "0       2600.0         UK\n",
       "0       1400.0         US\n",
       "0       1500.0         US\n",
       "0       1600.0         US\n",
       "0       1700.0         US"
      ]
     },
     "execution_count": 18,
     "metadata": {},
     "output_type": "execute_result"
    }
   ],
   "source": [
    "mycursor.execute(\"SELECT location_id, country_id FROM locations\")\n",
    "result=mycursor.fetchall()\n",
    "record_df=pd.DataFrame({'Location_id':[], 'Country_id':[]})\n",
    "for records in result:\n",
    "    record=pd.DataFrame({'Location_id':[records[0]], 'Country_id':[records[1]]})\n",
    "    record_df=pd.concat((record_df, record), axis=0)\n",
    "record_df"
   ]
  },
  {
   "cell_type": "code",
   "execution_count": null,
   "id": "03d5e8eb",
   "metadata": {},
   "outputs": [],
   "source": []
  }
 ],
 "metadata": {
  "kernelspec": {
   "display_name": "Python 3 (ipykernel)",
   "language": "python",
   "name": "python3"
  },
  "language_info": {
   "codemirror_mode": {
    "name": "ipython",
    "version": 3
   },
   "file_extension": ".py",
   "mimetype": "text/x-python",
   "name": "python",
   "nbconvert_exporter": "python",
   "pygments_lexer": "ipython3",
   "version": "3.9.7"
  }
 },
 "nbformat": 4,
 "nbformat_minor": 5
}
