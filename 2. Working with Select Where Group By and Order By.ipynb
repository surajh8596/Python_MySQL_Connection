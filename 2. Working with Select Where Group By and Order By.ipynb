{
 "cells": [
  {
   "cell_type": "markdown",
   "id": "c92a4dec",
   "metadata": {},
   "source": [
    "### 1. Select statement"
   ]
  },
  {
   "cell_type": "code",
   "execution_count": 3,
   "id": "74cf4224",
   "metadata": {},
   "outputs": [],
   "source": [
    "from mysql.connector import connect"
   ]
  },
  {
   "cell_type": "code",
   "execution_count": 8,
   "id": "662666da",
   "metadata": {
    "scrolled": false
   },
   "outputs": [
    {
     "name": "stdout",
     "output_type": "stream",
     "text": [
      "(100, 'Steven', 'King', 'SKING', '515.123.4567', datetime.date(1987, 6, 17), 'AD_PRES', Decimal('24000.00'), None, None, 90)\n",
      "(101, 'Neena', 'Kochhar', 'NKOCHHAR', '515.123.4568', datetime.date(1989, 9, 21), 'AD_VP', Decimal('17000.00'), None, 100, 90)\n",
      "(102, 'Lex', 'De Haan', 'LDEHAAN', '515.123.4569', datetime.date(1993, 1, 13), 'AD_VP', Decimal('17000.00'), None, 100, 90)\n",
      "(103, 'Alexander', 'Hunold', 'AHUNOLD', '590.423.4567', datetime.date(1990, 1, 3), 'IT_PROG', Decimal('9000.00'), None, 102, 60)\n",
      "(104, 'Bruce', 'Ernst', 'BERNST', '590.423.4568', datetime.date(1991, 5, 21), 'IT_PROG', Decimal('6000.00'), None, 103, 60)\n",
      "(105, 'David', 'Austin', 'DAUSTIN', '590.423.4569', datetime.date(1997, 6, 25), 'IT_PROG', Decimal('4800.00'), None, 103, 60)\n",
      "(106, 'Valli', 'Pataballa', 'VPATABAL', '590.423.4560', datetime.date(1998, 2, 5), 'IT_PROG', Decimal('4800.00'), None, 103, 60)\n",
      "(107, 'Diana', 'Lorentz', 'DLORENTZ', '590.423.5567', datetime.date(1999, 2, 7), 'IT_PROG', Decimal('4200.00'), None, 103, 60)\n",
      "(108, 'Nancy', 'Greenberg', 'NGREENBE', '515.124.4569', datetime.date(1994, 8, 17), 'FI_MGR', Decimal('12000.00'), None, 101, 100)\n",
      "(109, 'Daniel', 'Faviet', 'DFAVIET', '515.124.4169', datetime.date(1994, 8, 16), 'FI_ACCOUNT', Decimal('9000.00'), None, 108, 100)\n",
      "(110, 'John', 'Chen', 'JCHEN', '515.124.4269', datetime.date(1997, 9, 28), 'FI_ACCOUNT', Decimal('8200.00'), None, 108, 100)\n",
      "(111, 'Ismael', 'Sciarra', 'ISCIARRA', '515.124.4369', datetime.date(1997, 9, 30), 'FI_ACCOUNT', Decimal('7700.00'), None, 108, 100)\n",
      "(112, 'Jose Manuel', 'Urman', 'JMURMAN', '515.124.4469', datetime.date(1998, 3, 7), 'FI_ACCOUNT', Decimal('7800.00'), None, 108, 100)\n",
      "(113, 'Luis', 'Popp', 'LPOPP', '515.124.4567', datetime.date(1999, 12, 7), 'FI_ACCOUNT', Decimal('6900.00'), None, 108, 100)\n",
      "(114, 'Den', 'Raphaely', 'DRAPHEAL', '515.127.4561', datetime.date(1994, 12, 7), 'PU_MAN', Decimal('11000.00'), None, 100, 30)\n",
      "(115, 'Alexander', 'Khoo', 'AKHOO', '515.127.4562', datetime.date(1995, 5, 18), 'PU_CLERK', Decimal('3100.00'), None, 114, 30)\n",
      "(116, 'Shelli', 'Baida', 'SBAIDA', '515.127.4563', datetime.date(1997, 12, 24), 'PU_CLERK', Decimal('2900.00'), None, 114, 30)\n",
      "(117, 'Sigal', 'Tobias', 'STOBIAS', '515.127.4564', datetime.date(1997, 7, 24), 'PU_CLERK', Decimal('2800.00'), None, 114, 30)\n",
      "(118, 'Guy', 'Himuro', 'GHIMURO', '515.127.4565', datetime.date(1998, 11, 15), 'PU_CLERK', Decimal('2600.00'), None, 114, 30)\n",
      "(119, 'Karen', 'Colmenares', 'KCOLMENA', '515.127.4566', datetime.date(1999, 8, 10), 'PU_CLERK', Decimal('2500.00'), None, 114, 30)\n",
      "(120, 'Matthew', 'Weiss', 'MWEISS', '650.123.1234', datetime.date(1996, 7, 18), 'ST_MAN', Decimal('8000.00'), None, 100, 50)\n",
      "(121, 'Adam', 'Fripp', 'AFRIPP', '650.123.2234', datetime.date(1997, 4, 10), 'ST_MAN', Decimal('8200.00'), None, 100, 50)\n",
      "(122, 'Payam', 'Kaufling', 'PKAUFLIN', '650.123.3234', datetime.date(1995, 5, 1), 'ST_MAN', Decimal('7900.00'), None, 100, 50)\n",
      "(123, 'Shanta', 'Vollman', 'SVOLLMAN', '650.123.4234', datetime.date(1997, 10, 10), 'ST_MAN', Decimal('6500.00'), None, 100, 50)\n",
      "(124, 'Kevin', 'Mourgos', 'KMOURGOS', '650.123.5234', datetime.date(1999, 11, 16), 'ST_MAN', Decimal('5800.00'), None, 100, 50)\n",
      "(125, 'Julia', 'Nayer', 'JNAYER', '650.124.1214', datetime.date(1997, 7, 16), 'ST_CLERK', Decimal('3200.00'), None, 120, 50)\n",
      "(126, 'Irene', 'Mikkilineni', 'IMIKKILI', '650.124.1224', datetime.date(1998, 9, 28), 'ST_CLERK', Decimal('2700.00'), None, 120, 50)\n",
      "(127, 'James', 'Landry', 'JLANDRY', '650.124.1334', datetime.date(1999, 1, 14), 'ST_CLERK', Decimal('2400.00'), None, 120, 50)\n",
      "(128, 'Steven', 'Markle', 'SMARKLE', '650.124.1434', datetime.date(2000, 3, 8), 'ST_CLERK', Decimal('2200.00'), None, 120, 50)\n",
      "(129, 'Laura', 'Bissot', 'LBISSOT', '650.124.5234', datetime.date(1997, 8, 20), 'ST_CLERK', Decimal('3300.00'), None, 121, 50)\n",
      "(130, 'Mozhe', 'Atkinson', 'MATKINSO', '650.124.6234', datetime.date(1997, 10, 30), 'ST_CLERK', Decimal('2800.00'), None, 121, 50)\n",
      "(131, 'James', 'Marlow', 'JAMRLOW', '650.124.7234', datetime.date(1997, 2, 16), 'ST_CLERK', Decimal('2500.00'), None, 121, 50)\n",
      "(132, 'TJ', 'Olson', 'TJOLSON', '650.124.8234', datetime.date(1999, 4, 10), 'ST_CLERK', Decimal('2100.00'), None, 121, 50)\n",
      "(133, 'Jason', 'Mallin', 'JMALLIN', '650.127.1934', datetime.date(1996, 6, 14), 'ST_CLERK', Decimal('3300.00'), None, 122, 50)\n",
      "(134, 'Michael', 'Rogers', 'MROGERS', '650.127.1834', datetime.date(1998, 8, 26), 'ST_CLERK', Decimal('2900.00'), None, 122, 50)\n",
      "(135, 'Ki', 'Gee', 'KGEE', '650.127.1734', datetime.date(1999, 12, 12), 'ST_CLERK', Decimal('2400.00'), None, 122, 50)\n",
      "(136, 'Hazel', 'Philtanker', 'HPHILTAN', '650.127.1634', datetime.date(2000, 2, 6), 'ST_CLERK', Decimal('2200.00'), None, 122, 50)\n",
      "(137, 'Renske', 'Ladwig', 'RLADWIG', '650.121.1234', datetime.date(1995, 7, 14), 'ST_CLERK', Decimal('3600.00'), None, 123, 50)\n",
      "(138, 'Stephen', 'Stiles', 'SSTILES', '650.121.2034', datetime.date(1997, 10, 26), 'ST_CLERK', Decimal('3200.00'), None, 123, 50)\n",
      "(139, 'John', 'Seo', 'JSEO', '650.121.2019', datetime.date(1998, 2, 12), 'ST_CLERK', Decimal('2700.00'), None, 123, 50)\n",
      "(140, 'Joshua', 'Patel', 'JPATEL', '650.121.1834', datetime.date(1998, 4, 6), 'ST_CLERK', Decimal('2500.00'), None, 123, 50)\n",
      "(141, 'Trenna', 'Rajs', 'TRAJS', '650.121.8009', datetime.date(1995, 10, 17), 'ST_CLERK', Decimal('3500.00'), None, 124, 50)\n",
      "(142, 'Curtis', 'Davies', 'CDAVIES', '650.121.2994', datetime.date(1997, 1, 29), 'ST_CLERK', Decimal('3100.00'), None, 124, 50)\n",
      "(143, 'Randall', 'Matos', 'RMATOS', '650.121.2874', datetime.date(1998, 3, 15), 'ST_CLERK', Decimal('2600.00'), None, 124, 50)\n",
      "(144, 'Peter', 'Vargas', 'PVARGAS', '650.121.2004', datetime.date(1998, 7, 9), 'ST_CLERK', Decimal('2500.00'), None, 124, 50)\n",
      "(145, 'John', 'Russell', 'JRUSSEL', '011.44.1344.429268', datetime.date(1996, 10, 1), 'SA_MAN', Decimal('14000.00'), Decimal('0.40'), 100, 80)\n",
      "(146, 'Karen', 'Partners', 'KPARTNER', '011.44.1344.467268', datetime.date(1997, 1, 5), 'SA_MAN', Decimal('13500.00'), Decimal('0.30'), 100, 80)\n",
      "(147, 'Alberto', 'Errazuriz', 'AERRAZUR', '011.44.1344.429278', datetime.date(1997, 3, 10), 'SA_MAN', Decimal('12000.00'), Decimal('0.30'), 100, 80)\n",
      "(148, 'Gerald', 'Cambrault', 'GCAMBRAU', '011.44.1344.619268', datetime.date(1999, 10, 15), 'SA_MAN', Decimal('11000.00'), Decimal('0.30'), 100, 80)\n",
      "(149, 'Eleni', 'Zlotkey', 'EZLOTKEY', '011.44.1344.429018', datetime.date(2000, 1, 29), 'SA_MAN', Decimal('10500.00'), Decimal('0.20'), 100, 80)\n",
      "(150, 'Peter', 'Tucker', 'PTUCKER', '011.44.1344.129268', datetime.date(1997, 1, 30), 'SA_REP', Decimal('10000.00'), Decimal('0.30'), 145, 80)\n",
      "(151, 'David', 'Bernstein', 'DBERNSTE', '011.44.1344.345268', datetime.date(1997, 3, 24), 'SA_REP', Decimal('9500.00'), Decimal('0.25'), 145, 80)\n",
      "(152, 'Peter', 'Hall', 'PHALL', '011.44.1344.478968', datetime.date(1997, 8, 20), 'SA_REP', Decimal('9000.00'), Decimal('0.25'), 145, 80)\n",
      "(153, 'Christopher', 'Olsen', 'COLSEN', '011.44.1344.498718', datetime.date(1998, 3, 30), 'SA_REP', Decimal('8000.00'), Decimal('0.20'), 145, 80)\n",
      "(154, 'Nanette', 'Cambrault', 'NCAMBRAU', '011.44.1344.987668', datetime.date(1998, 12, 9), 'SA_REP', Decimal('7500.00'), Decimal('0.20'), 145, 80)\n",
      "(155, 'Oliver', 'Tuvault', 'OTUVAULT', '011.44.1344.486508', datetime.date(1999, 11, 23), 'SA_REP', Decimal('7000.00'), Decimal('0.15'), 145, 80)\n",
      "(156, 'Janette', 'King', 'JKING', '011.44.1345.429268', datetime.date(1996, 1, 30), 'SA_REP', Decimal('10000.00'), Decimal('0.35'), 146, 80)\n",
      "(157, 'Patrick', 'Sully', 'PSULLY', '011.44.1345.929268', datetime.date(1996, 3, 4), 'SA_REP', Decimal('9500.00'), Decimal('0.35'), 146, 80)\n",
      "(158, 'Allan', 'McEwen', 'AMCEWEN', '011.44.1345.829268', datetime.date(1996, 8, 1), 'SA_REP', Decimal('9000.00'), Decimal('0.35'), 146, 80)\n",
      "(159, 'Lindsey', 'Smith', 'LSMITH', '011.44.1345.729268', datetime.date(1997, 3, 10), 'SA_REP', Decimal('8000.00'), Decimal('0.30'), 146, 80)\n",
      "(160, 'Louise', 'Doran', 'LDORAN', '011.44.1345.629268', datetime.date(1997, 12, 15), 'SA_REP', Decimal('7500.00'), Decimal('0.30'), 146, 80)\n",
      "(161, 'Sarath', 'Sewall', 'SSEWALL', '011.44.1345.529268', datetime.date(1998, 11, 3), 'SA_REP', Decimal('7000.00'), Decimal('0.25'), 146, 80)\n",
      "(162, 'Clara', 'Vishney', 'CVISHNEY', '011.44.1346.129268', datetime.date(1997, 11, 11), 'SA_REP', Decimal('10500.00'), Decimal('0.25'), 147, 80)\n",
      "(163, 'Danielle', 'Greene', 'DGREENE', '011.44.1346.229268', datetime.date(1999, 3, 19), 'SA_REP', Decimal('9500.00'), Decimal('0.15'), 147, 80)\n",
      "(164, 'Mattea', 'Marvins', 'MMARVINS', '011.44.1346.329268', datetime.date(2000, 1, 24), 'SA_REP', Decimal('7200.00'), Decimal('0.10'), 147, 80)\n",
      "(165, 'David', 'Lee', 'DLEE', '011.44.1346.529268', datetime.date(2000, 2, 23), 'SA_REP', Decimal('6800.00'), Decimal('0.10'), 147, 80)\n",
      "(166, 'Sundar', 'Ande', 'SANDE', '011.44.1346.629268', datetime.date(2000, 3, 24), 'SA_REP', Decimal('6400.00'), Decimal('0.10'), 147, 80)\n",
      "(167, 'Amit', 'Banda', 'ABANDA', '011.44.1346.729268', datetime.date(2000, 4, 21), 'SA_REP', Decimal('6200.00'), Decimal('0.10'), 147, 80)\n",
      "(168, 'Lisa', 'Ozer', 'LOZER', '011.44.1343.929268', datetime.date(1997, 3, 11), 'SA_REP', Decimal('11500.00'), Decimal('0.25'), 148, 80)\n",
      "(169, 'Harrison', 'Bloom', 'HBLOOM', '011.44.1343.829268', datetime.date(1998, 3, 23), 'SA_REP', Decimal('10000.00'), Decimal('0.20'), 148, 80)\n",
      "(170, 'Tayler', 'Fox', 'TFOX', '011.44.1343.729268', datetime.date(1998, 1, 24), 'SA_REP', Decimal('9600.00'), Decimal('0.20'), 148, 80)\n",
      "(171, 'William', 'Smith', 'WSMITH', '011.44.1343.629268', datetime.date(1999, 2, 23), 'SA_REP', Decimal('7400.00'), Decimal('0.15'), 148, 80)\n",
      "(172, 'Elizabeth', 'Bates', 'EBATES', '011.44.1343.529268', datetime.date(1999, 3, 24), 'SA_REP', Decimal('7300.00'), Decimal('0.15'), 148, 80)\n",
      "(173, 'Sundita', 'Kumar', 'SKUMAR', '011.44.1343.329268', datetime.date(2000, 4, 21), 'SA_REP', Decimal('6100.00'), Decimal('0.10'), 148, 80)\n",
      "(174, 'Ellen', 'Abel', 'EABEL', '011.44.1644.429267', datetime.date(1996, 5, 11), 'SA_REP', Decimal('11000.00'), Decimal('0.30'), 149, 80)\n",
      "(175, 'Alyssa', 'Hutton', 'AHUTTON', '011.44.1644.429266', datetime.date(1997, 3, 19), 'SA_REP', Decimal('8800.00'), Decimal('0.25'), 149, 80)\n",
      "(176, 'Jonathon', 'Taylor', 'JTAYLOR', '011.44.1644.429265', datetime.date(1998, 3, 24), 'SA_REP', Decimal('8600.00'), Decimal('0.20'), 149, 80)\n",
      "(177, 'Jack', 'Livingston', 'JLIVINGS', '011.44.1644.429264', datetime.date(1998, 4, 23), 'SA_REP', Decimal('8400.00'), Decimal('0.20'), 149, 80)\n",
      "(178, 'Kimberely', 'Grant', 'KGRANT', '011.44.1644.429263', datetime.date(1999, 5, 24), 'SA_REP', Decimal('7000.00'), Decimal('0.15'), 149, None)\n",
      "(179, 'Charles', 'Johnson', 'CJOHNSON', '011.44.1644.429262', datetime.date(2000, 1, 4), 'SA_REP', Decimal('6200.00'), Decimal('0.10'), 149, 80)\n",
      "(180, 'Winston', 'Taylor', 'WTAYLOR', '650.507.9876', datetime.date(1998, 1, 24), 'SH_CLERK', Decimal('3200.00'), None, 120, 50)\n",
      "(181, 'Jean', 'Fleaur', 'JFLEAUR', '650.507.9877', datetime.date(1998, 2, 23), 'SH_CLERK', Decimal('3100.00'), None, 120, 50)\n",
      "(182, 'Martha', 'Sullivan', 'MSULLIVA', '650.507.9878', datetime.date(1999, 6, 21), 'SH_CLERK', Decimal('2500.00'), None, 120, 50)\n",
      "(183, 'Girard', 'Geoni', 'GGEONI', '650.507.9879', datetime.date(2000, 2, 3), 'SH_CLERK', Decimal('2800.00'), None, 120, 50)\n",
      "(184, 'Nandita', 'Sarchand', 'NSARCHAN', '650.509.1876', datetime.date(1996, 1, 27), 'SH_CLERK', Decimal('4200.00'), None, 121, 50)\n",
      "(185, 'Alexis', 'Bull', 'ABULL', '650.509.2876', datetime.date(1997, 2, 20), 'SH_CLERK', Decimal('4100.00'), None, 121, 50)\n",
      "(186, 'Julia', 'Dellinger', 'JDELLING', '650.509.3876', datetime.date(1998, 6, 24), 'SH_CLERK', Decimal('3400.00'), None, 121, 50)\n",
      "(187, 'Anthony', 'Cabrio', 'ACABRIO', '650.509.4876', datetime.date(1999, 2, 7), 'SH_CLERK', Decimal('3000.00'), None, 121, 50)\n",
      "(188, 'Kelly', 'Chung', 'KCHUNG', '650.505.1876', datetime.date(1997, 6, 14), 'SH_CLERK', Decimal('3800.00'), None, 122, 50)\n",
      "(189, 'Jennifer', 'Dilly', 'JDILLY', '650.505.2876', datetime.date(1997, 8, 13), 'SH_CLERK', Decimal('3600.00'), None, 122, 50)\n",
      "(190, 'Timothy', 'Gates', 'TGATES', '650.505.3876', datetime.date(1998, 7, 11), 'SH_CLERK', Decimal('2900.00'), None, 122, 50)\n",
      "(191, 'Randall', 'Perkins', 'RPERKINS', '650.505.4876', datetime.date(1999, 12, 19), 'SH_CLERK', Decimal('2500.00'), None, 122, 50)\n",
      "(192, 'Sarah', 'Bell', 'SBELL', '650.501.1876', datetime.date(1996, 2, 4), 'SH_CLERK', Decimal('4000.00'), None, 123, 50)\n",
      "(193, 'Britney', 'Everett', 'BEVERETT', '650.501.2876', datetime.date(1997, 3, 3), 'SH_CLERK', Decimal('3900.00'), None, 123, 50)\n",
      "(194, 'Samuel', 'McCain', 'SMCCAIN', '650.501.3876', datetime.date(1998, 7, 1), 'SH_CLERK', Decimal('3200.00'), None, 123, 50)\n",
      "(195, 'Vance', 'Jones', 'VJONES', '650.501.4876', datetime.date(1999, 3, 17), 'SH_CLERK', Decimal('2800.00'), None, 123, 50)\n",
      "(196, 'Alana', 'Walsh', 'AWALSH', '650.507.9811', datetime.date(1998, 4, 24), 'SH_CLERK', Decimal('3100.00'), None, 124, 50)\n",
      "(197, 'Kevin', 'Feeney', 'KFEENEY', '650.507.9822', datetime.date(1998, 5, 23), 'SH_CLERK', Decimal('3000.00'), None, 124, 50)\n",
      "(198, 'Donald', 'OConnell', 'DOCONNEL', '650.507.9833', datetime.date(1999, 6, 21), 'SH_CLERK', Decimal('2600.00'), None, 124, 50)\n",
      "(199, 'Douglas', 'Grant', 'DGRANT', '650.507.9844', datetime.date(2000, 1, 13), 'SH_CLERK', Decimal('2600.00'), None, 124, 50)\n",
      "(200, 'Jennifer', 'Whalen', 'JWHALEN', '515.123.4444', datetime.date(1987, 9, 17), 'AD_ASST', Decimal('4400.00'), None, 101, 10)\n",
      "(201, 'Michael', 'Hartstein', 'MHARTSTE', '515.123.5555', datetime.date(1996, 2, 17), 'MK_MAN', Decimal('13000.00'), None, 100, 20)\n",
      "(202, 'Pat', 'Fay', 'PFAY', '603.123.6666', datetime.date(1997, 8, 17), 'MK_REP', Decimal('6000.00'), None, 201, 20)\n",
      "(203, 'Susan', 'Mavris', 'SMAVRIS', '515.123.7777', datetime.date(1994, 6, 7), 'HR_REP', Decimal('6500.00'), None, 101, 40)\n",
      "(204, 'Hermann', 'Baer', 'HBAER', '515.123.8888', datetime.date(1994, 6, 7), 'PR_REP', Decimal('10000.00'), None, 101, 70)\n",
      "(205, 'Shelley', 'Higgins', 'SHIGGINS', '515.123.8080', datetime.date(1994, 6, 7), 'AC_MGR', Decimal('12000.00'), None, 101, 110)\n",
      "(206, 'William', 'Gietz', 'WGIETZ', '51hr5.123.8181', datetime.date(1994, 6, 7), 'AC_ACCOUNT', Decimal('8300.00'), None, 205, 110)\n"
     ]
    }
   ],
   "source": [
    "hr_db=connect(host=\"localhost\", user=\"root\", password=\"Theuserdied@8\", database=\"hr\")\n",
    "\n",
    "hr_db_cursor=hr_db.cursor()\n",
    "hr_db_cursor.execute(\"SELECT * FROM employees\")\n",
    "\n",
    "for employee in hr_db_cursor:\n",
    "    print(employee)"
   ]
  },
  {
   "cell_type": "markdown",
   "id": "3379ac7e",
   "metadata": {},
   "source": [
    "### Selecting specific fields"
   ]
  },
  {
   "cell_type": "code",
   "execution_count": 9,
   "id": "f376336d",
   "metadata": {
    "scrolled": false
   },
   "outputs": [
    {
     "name": "stdout",
     "output_type": "stream",
     "text": [
      "(100, 'Steven', Decimal('24000.00'))\n",
      "(101, 'Neena', Decimal('17000.00'))\n",
      "(102, 'Lex', Decimal('17000.00'))\n",
      "(103, 'Alexander', Decimal('9000.00'))\n",
      "(104, 'Bruce', Decimal('6000.00'))\n",
      "(105, 'David', Decimal('4800.00'))\n",
      "(106, 'Valli', Decimal('4800.00'))\n",
      "(107, 'Diana', Decimal('4200.00'))\n",
      "(108, 'Nancy', Decimal('12000.00'))\n",
      "(109, 'Daniel', Decimal('9000.00'))\n",
      "(110, 'John', Decimal('8200.00'))\n",
      "(111, 'Ismael', Decimal('7700.00'))\n",
      "(112, 'Jose Manuel', Decimal('7800.00'))\n",
      "(113, 'Luis', Decimal('6900.00'))\n",
      "(114, 'Den', Decimal('11000.00'))\n",
      "(115, 'Alexander', Decimal('3100.00'))\n",
      "(116, 'Shelli', Decimal('2900.00'))\n",
      "(117, 'Sigal', Decimal('2800.00'))\n",
      "(118, 'Guy', Decimal('2600.00'))\n",
      "(119, 'Karen', Decimal('2500.00'))\n",
      "(120, 'Matthew', Decimal('8000.00'))\n",
      "(121, 'Adam', Decimal('8200.00'))\n",
      "(122, 'Payam', Decimal('7900.00'))\n",
      "(123, 'Shanta', Decimal('6500.00'))\n",
      "(124, 'Kevin', Decimal('5800.00'))\n",
      "(125, 'Julia', Decimal('3200.00'))\n",
      "(126, 'Irene', Decimal('2700.00'))\n",
      "(127, 'James', Decimal('2400.00'))\n",
      "(128, 'Steven', Decimal('2200.00'))\n",
      "(129, 'Laura', Decimal('3300.00'))\n",
      "(130, 'Mozhe', Decimal('2800.00'))\n",
      "(131, 'James', Decimal('2500.00'))\n",
      "(132, 'TJ', Decimal('2100.00'))\n",
      "(133, 'Jason', Decimal('3300.00'))\n",
      "(134, 'Michael', Decimal('2900.00'))\n",
      "(135, 'Ki', Decimal('2400.00'))\n",
      "(136, 'Hazel', Decimal('2200.00'))\n",
      "(137, 'Renske', Decimal('3600.00'))\n",
      "(138, 'Stephen', Decimal('3200.00'))\n",
      "(139, 'John', Decimal('2700.00'))\n",
      "(140, 'Joshua', Decimal('2500.00'))\n",
      "(141, 'Trenna', Decimal('3500.00'))\n",
      "(142, 'Curtis', Decimal('3100.00'))\n",
      "(143, 'Randall', Decimal('2600.00'))\n",
      "(144, 'Peter', Decimal('2500.00'))\n",
      "(145, 'John', Decimal('14000.00'))\n",
      "(146, 'Karen', Decimal('13500.00'))\n",
      "(147, 'Alberto', Decimal('12000.00'))\n",
      "(148, 'Gerald', Decimal('11000.00'))\n",
      "(149, 'Eleni', Decimal('10500.00'))\n",
      "(150, 'Peter', Decimal('10000.00'))\n",
      "(151, 'David', Decimal('9500.00'))\n",
      "(152, 'Peter', Decimal('9000.00'))\n",
      "(153, 'Christopher', Decimal('8000.00'))\n",
      "(154, 'Nanette', Decimal('7500.00'))\n",
      "(155, 'Oliver', Decimal('7000.00'))\n",
      "(156, 'Janette', Decimal('10000.00'))\n",
      "(157, 'Patrick', Decimal('9500.00'))\n",
      "(158, 'Allan', Decimal('9000.00'))\n",
      "(159, 'Lindsey', Decimal('8000.00'))\n",
      "(160, 'Louise', Decimal('7500.00'))\n",
      "(161, 'Sarath', Decimal('7000.00'))\n",
      "(162, 'Clara', Decimal('10500.00'))\n",
      "(163, 'Danielle', Decimal('9500.00'))\n",
      "(164, 'Mattea', Decimal('7200.00'))\n",
      "(165, 'David', Decimal('6800.00'))\n",
      "(166, 'Sundar', Decimal('6400.00'))\n",
      "(167, 'Amit', Decimal('6200.00'))\n",
      "(168, 'Lisa', Decimal('11500.00'))\n",
      "(169, 'Harrison', Decimal('10000.00'))\n",
      "(170, 'Tayler', Decimal('9600.00'))\n",
      "(171, 'William', Decimal('7400.00'))\n",
      "(172, 'Elizabeth', Decimal('7300.00'))\n",
      "(173, 'Sundita', Decimal('6100.00'))\n",
      "(174, 'Ellen', Decimal('11000.00'))\n",
      "(175, 'Alyssa', Decimal('8800.00'))\n",
      "(176, 'Jonathon', Decimal('8600.00'))\n",
      "(177, 'Jack', Decimal('8400.00'))\n",
      "(178, 'Kimberely', Decimal('7000.00'))\n",
      "(179, 'Charles', Decimal('6200.00'))\n",
      "(180, 'Winston', Decimal('3200.00'))\n",
      "(181, 'Jean', Decimal('3100.00'))\n",
      "(182, 'Martha', Decimal('2500.00'))\n",
      "(183, 'Girard', Decimal('2800.00'))\n",
      "(184, 'Nandita', Decimal('4200.00'))\n",
      "(185, 'Alexis', Decimal('4100.00'))\n",
      "(186, 'Julia', Decimal('3400.00'))\n",
      "(187, 'Anthony', Decimal('3000.00'))\n",
      "(188, 'Kelly', Decimal('3800.00'))\n",
      "(189, 'Jennifer', Decimal('3600.00'))\n",
      "(190, 'Timothy', Decimal('2900.00'))\n",
      "(191, 'Randall', Decimal('2500.00'))\n",
      "(192, 'Sarah', Decimal('4000.00'))\n",
      "(193, 'Britney', Decimal('3900.00'))\n",
      "(194, 'Samuel', Decimal('3200.00'))\n",
      "(195, 'Vance', Decimal('2800.00'))\n",
      "(196, 'Alana', Decimal('3100.00'))\n",
      "(197, 'Kevin', Decimal('3000.00'))\n",
      "(198, 'Donald', Decimal('2600.00'))\n",
      "(199, 'Douglas', Decimal('2600.00'))\n",
      "(200, 'Jennifer', Decimal('4400.00'))\n",
      "(201, 'Michael', Decimal('13000.00'))\n",
      "(202, 'Pat', Decimal('6000.00'))\n",
      "(203, 'Susan', Decimal('6500.00'))\n",
      "(204, 'Hermann', Decimal('10000.00'))\n",
      "(205, 'Shelley', Decimal('12000.00'))\n",
      "(206, 'William', Decimal('8300.00'))\n"
     ]
    }
   ],
   "source": [
    "hr_db_cursor.execute(\"SELECT employee_id, first_name, salary FROM employees\")\n",
    "\n",
    "for employee in hr_db_cursor:\n",
    "    print(employee)"
   ]
  },
  {
   "cell_type": "code",
   "execution_count": null,
   "id": "83973eb8",
   "metadata": {},
   "outputs": [],
   "source": []
  },
  {
   "cell_type": "markdown",
   "id": "357e8e84",
   "metadata": {},
   "source": [
    "### 2. Where Statement"
   ]
  },
  {
   "cell_type": "markdown",
   "id": "4f3b63f0",
   "metadata": {},
   "source": [
    "#### 1.  Employees with salary more than 10000"
   ]
  },
  {
   "cell_type": "code",
   "execution_count": 11,
   "id": "b1f0c4ca",
   "metadata": {},
   "outputs": [
    {
     "name": "stdout",
     "output_type": "stream",
     "text": [
      "(100, 'Steven', Decimal('24000.00'))\n",
      "(101, 'Neena', Decimal('17000.00'))\n",
      "(102, 'Lex', Decimal('17000.00'))\n",
      "(108, 'Nancy', Decimal('12000.00'))\n",
      "(114, 'Den', Decimal('11000.00'))\n",
      "(145, 'John', Decimal('14000.00'))\n",
      "(146, 'Karen', Decimal('13500.00'))\n",
      "(147, 'Alberto', Decimal('12000.00'))\n",
      "(148, 'Gerald', Decimal('11000.00'))\n",
      "(149, 'Eleni', Decimal('10500.00'))\n",
      "(162, 'Clara', Decimal('10500.00'))\n",
      "(168, 'Lisa', Decimal('11500.00'))\n",
      "(174, 'Ellen', Decimal('11000.00'))\n",
      "(201, 'Michael', Decimal('13000.00'))\n",
      "(205, 'Shelley', Decimal('12000.00'))\n"
     ]
    }
   ],
   "source": [
    "hr_db_cursor.execute(\"SELECT EMPLOYEE_ID, FIRST_NAME, SALARY FROM EMPLOYEES WHERE SALARY >10000\")\n",
    "\n",
    "for employee in hr_db_cursor:\n",
    "    print(employee)"
   ]
  },
  {
   "cell_type": "markdown",
   "id": "c8b21446",
   "metadata": {},
   "source": [
    "#### 2. Employees with salary between 10000 and 12000"
   ]
  },
  {
   "cell_type": "code",
   "execution_count": 12,
   "id": "fff0dac5",
   "metadata": {},
   "outputs": [
    {
     "name": "stdout",
     "output_type": "stream",
     "text": [
      "(108, 'Nancy', Decimal('12000.00'))\n",
      "(114, 'Den', Decimal('11000.00'))\n",
      "(147, 'Alberto', Decimal('12000.00'))\n",
      "(148, 'Gerald', Decimal('11000.00'))\n",
      "(149, 'Eleni', Decimal('10500.00'))\n",
      "(150, 'Peter', Decimal('10000.00'))\n",
      "(156, 'Janette', Decimal('10000.00'))\n",
      "(162, 'Clara', Decimal('10500.00'))\n",
      "(168, 'Lisa', Decimal('11500.00'))\n",
      "(169, 'Harrison', Decimal('10000.00'))\n",
      "(174, 'Ellen', Decimal('11000.00'))\n",
      "(204, 'Hermann', Decimal('10000.00'))\n",
      "(205, 'Shelley', Decimal('12000.00'))\n"
     ]
    }
   ],
   "source": [
    "hr_db_cursor.execute(\"SELECT EMPLOYEE_ID, FIRST_NAME, SALARY FROM EMPLOYEES WHERE SALARY BETWEEN 10000 AND 12000\")\n",
    "\n",
    "for employee in hr_db_cursor:\n",
    "    print(employee)"
   ]
  },
  {
   "cell_type": "code",
   "execution_count": null,
   "id": "f41eb462",
   "metadata": {},
   "outputs": [],
   "source": []
  },
  {
   "cell_type": "markdown",
   "id": "b1208749",
   "metadata": {},
   "source": [
    "### 3. Order By clause"
   ]
  },
  {
   "cell_type": "markdown",
   "id": "cd8d4c79",
   "metadata": {},
   "source": [
    "#### 1. Sort the salary of employees by descending order."
   ]
  },
  {
   "cell_type": "code",
   "execution_count": 13,
   "id": "ac6b6111",
   "metadata": {
    "scrolled": false
   },
   "outputs": [
    {
     "name": "stdout",
     "output_type": "stream",
     "text": [
      "(100, 'Steven', Decimal('24000.00'))\n",
      "(101, 'Neena', Decimal('17000.00'))\n",
      "(102, 'Lex', Decimal('17000.00'))\n",
      "(145, 'John', Decimal('14000.00'))\n",
      "(146, 'Karen', Decimal('13500.00'))\n",
      "(201, 'Michael', Decimal('13000.00'))\n",
      "(108, 'Nancy', Decimal('12000.00'))\n",
      "(147, 'Alberto', Decimal('12000.00'))\n",
      "(205, 'Shelley', Decimal('12000.00'))\n",
      "(168, 'Lisa', Decimal('11500.00'))\n",
      "(114, 'Den', Decimal('11000.00'))\n",
      "(148, 'Gerald', Decimal('11000.00'))\n",
      "(174, 'Ellen', Decimal('11000.00'))\n",
      "(149, 'Eleni', Decimal('10500.00'))\n",
      "(162, 'Clara', Decimal('10500.00'))\n",
      "(150, 'Peter', Decimal('10000.00'))\n",
      "(156, 'Janette', Decimal('10000.00'))\n",
      "(169, 'Harrison', Decimal('10000.00'))\n",
      "(204, 'Hermann', Decimal('10000.00'))\n",
      "(170, 'Tayler', Decimal('9600.00'))\n",
      "(151, 'David', Decimal('9500.00'))\n",
      "(157, 'Patrick', Decimal('9500.00'))\n",
      "(163, 'Danielle', Decimal('9500.00'))\n",
      "(103, 'Alexander', Decimal('9000.00'))\n",
      "(109, 'Daniel', Decimal('9000.00'))\n",
      "(152, 'Peter', Decimal('9000.00'))\n",
      "(158, 'Allan', Decimal('9000.00'))\n",
      "(175, 'Alyssa', Decimal('8800.00'))\n",
      "(176, 'Jonathon', Decimal('8600.00'))\n",
      "(177, 'Jack', Decimal('8400.00'))\n",
      "(206, 'William', Decimal('8300.00'))\n",
      "(110, 'John', Decimal('8200.00'))\n",
      "(121, 'Adam', Decimal('8200.00'))\n",
      "(120, 'Matthew', Decimal('8000.00'))\n",
      "(153, 'Christopher', Decimal('8000.00'))\n",
      "(159, 'Lindsey', Decimal('8000.00'))\n",
      "(122, 'Payam', Decimal('7900.00'))\n",
      "(112, 'Jose Manuel', Decimal('7800.00'))\n",
      "(111, 'Ismael', Decimal('7700.00'))\n",
      "(154, 'Nanette', Decimal('7500.00'))\n",
      "(160, 'Louise', Decimal('7500.00'))\n",
      "(171, 'William', Decimal('7400.00'))\n",
      "(172, 'Elizabeth', Decimal('7300.00'))\n",
      "(164, 'Mattea', Decimal('7200.00'))\n",
      "(155, 'Oliver', Decimal('7000.00'))\n",
      "(161, 'Sarath', Decimal('7000.00'))\n",
      "(178, 'Kimberely', Decimal('7000.00'))\n",
      "(113, 'Luis', Decimal('6900.00'))\n",
      "(165, 'David', Decimal('6800.00'))\n",
      "(123, 'Shanta', Decimal('6500.00'))\n",
      "(203, 'Susan', Decimal('6500.00'))\n",
      "(166, 'Sundar', Decimal('6400.00'))\n",
      "(167, 'Amit', Decimal('6200.00'))\n",
      "(179, 'Charles', Decimal('6200.00'))\n",
      "(173, 'Sundita', Decimal('6100.00'))\n",
      "(104, 'Bruce', Decimal('6000.00'))\n",
      "(202, 'Pat', Decimal('6000.00'))\n",
      "(124, 'Kevin', Decimal('5800.00'))\n",
      "(105, 'David', Decimal('4800.00'))\n",
      "(106, 'Valli', Decimal('4800.00'))\n",
      "(200, 'Jennifer', Decimal('4400.00'))\n",
      "(107, 'Diana', Decimal('4200.00'))\n",
      "(184, 'Nandita', Decimal('4200.00'))\n",
      "(185, 'Alexis', Decimal('4100.00'))\n",
      "(192, 'Sarah', Decimal('4000.00'))\n",
      "(193, 'Britney', Decimal('3900.00'))\n",
      "(188, 'Kelly', Decimal('3800.00'))\n",
      "(137, 'Renske', Decimal('3600.00'))\n",
      "(189, 'Jennifer', Decimal('3600.00'))\n",
      "(141, 'Trenna', Decimal('3500.00'))\n",
      "(186, 'Julia', Decimal('3400.00'))\n",
      "(129, 'Laura', Decimal('3300.00'))\n",
      "(133, 'Jason', Decimal('3300.00'))\n",
      "(125, 'Julia', Decimal('3200.00'))\n",
      "(138, 'Stephen', Decimal('3200.00'))\n",
      "(180, 'Winston', Decimal('3200.00'))\n",
      "(194, 'Samuel', Decimal('3200.00'))\n",
      "(115, 'Alexander', Decimal('3100.00'))\n",
      "(142, 'Curtis', Decimal('3100.00'))\n",
      "(181, 'Jean', Decimal('3100.00'))\n",
      "(196, 'Alana', Decimal('3100.00'))\n",
      "(187, 'Anthony', Decimal('3000.00'))\n",
      "(197, 'Kevin', Decimal('3000.00'))\n",
      "(116, 'Shelli', Decimal('2900.00'))\n",
      "(134, 'Michael', Decimal('2900.00'))\n",
      "(190, 'Timothy', Decimal('2900.00'))\n",
      "(117, 'Sigal', Decimal('2800.00'))\n",
      "(130, 'Mozhe', Decimal('2800.00'))\n",
      "(183, 'Girard', Decimal('2800.00'))\n",
      "(195, 'Vance', Decimal('2800.00'))\n",
      "(126, 'Irene', Decimal('2700.00'))\n",
      "(139, 'John', Decimal('2700.00'))\n",
      "(118, 'Guy', Decimal('2600.00'))\n",
      "(143, 'Randall', Decimal('2600.00'))\n",
      "(198, 'Donald', Decimal('2600.00'))\n",
      "(199, 'Douglas', Decimal('2600.00'))\n",
      "(119, 'Karen', Decimal('2500.00'))\n",
      "(131, 'James', Decimal('2500.00'))\n",
      "(140, 'Joshua', Decimal('2500.00'))\n",
      "(144, 'Peter', Decimal('2500.00'))\n",
      "(182, 'Martha', Decimal('2500.00'))\n",
      "(191, 'Randall', Decimal('2500.00'))\n",
      "(127, 'James', Decimal('2400.00'))\n",
      "(135, 'Ki', Decimal('2400.00'))\n",
      "(128, 'Steven', Decimal('2200.00'))\n",
      "(136, 'Hazel', Decimal('2200.00'))\n",
      "(132, 'TJ', Decimal('2100.00'))\n"
     ]
    }
   ],
   "source": [
    "hr_db_cursor.execute(\"SELECT EMPLOYEE_ID, FIRST_NAME, SALARY FROM EMPLOYEES ORDER BY SALARY DESC\")\n",
    "\n",
    "for employee in hr_db_cursor:\n",
    "    print(employee)"
   ]
  },
  {
   "cell_type": "markdown",
   "id": "57c3e421",
   "metadata": {},
   "source": [
    "#### 2. Employees with salary > 15000 and sort the result by salary highest to lowest"
   ]
  },
  {
   "cell_type": "code",
   "execution_count": 14,
   "id": "2c1f196e",
   "metadata": {},
   "outputs": [
    {
     "name": "stdout",
     "output_type": "stream",
     "text": [
      "(100, 'Steven', Decimal('24000.00'))\n",
      "(101, 'Neena', Decimal('17000.00'))\n",
      "(102, 'Lex', Decimal('17000.00'))\n"
     ]
    }
   ],
   "source": [
    "hr_db_cursor.execute(\"SELECT EMPLOYEE_ID, FIRST_NAME, SALARY FROM EMPLOYEES WHERE SALARY >15000 ORDER BY SALARY DESC\")\n",
    "\n",
    "for employee in hr_db_cursor:\n",
    "    print(employee)"
   ]
  },
  {
   "cell_type": "code",
   "execution_count": null,
   "id": "9fc9b266",
   "metadata": {},
   "outputs": [],
   "source": []
  },
  {
   "cell_type": "markdown",
   "id": "272f93dc",
   "metadata": {},
   "source": [
    "### 3. Group By clause"
   ]
  },
  {
   "cell_type": "markdown",
   "id": "8927085c",
   "metadata": {},
   "source": [
    "#### 1. Count the number of employees in each department"
   ]
  },
  {
   "cell_type": "code",
   "execution_count": 15,
   "id": "6a12e3f4",
   "metadata": {},
   "outputs": [
    {
     "name": "stdout",
     "output_type": "stream",
     "text": [
      "(None, 1)\n",
      "(10, 1)\n",
      "(20, 2)\n",
      "(30, 6)\n",
      "(40, 1)\n",
      "(50, 45)\n",
      "(60, 5)\n",
      "(70, 1)\n",
      "(80, 34)\n",
      "(90, 3)\n",
      "(100, 6)\n",
      "(110, 2)\n"
     ]
    }
   ],
   "source": [
    "hr_db_cursor.execute(\"SELECT department_id, count(employee_id) FROM EMPLOYEES group by department_id\")\n",
    "\n",
    "for employee in hr_db_cursor:\n",
    "    print(employee)"
   ]
  },
  {
   "cell_type": "markdown",
   "id": "9acfdd4e",
   "metadata": {},
   "source": [
    "#### 2. What is the maximum and minimum sakary for employees in each department"
   ]
  },
  {
   "cell_type": "code",
   "execution_count": 16,
   "id": "28905457",
   "metadata": {},
   "outputs": [
    {
     "name": "stdout",
     "output_type": "stream",
     "text": [
      "(None, Decimal('7000.00'), Decimal('7000.00'))\n",
      "(10, Decimal('4400.00'), Decimal('4400.00'))\n",
      "(20, Decimal('13000.00'), Decimal('6000.00'))\n",
      "(30, Decimal('11000.00'), Decimal('2500.00'))\n",
      "(40, Decimal('6500.00'), Decimal('6500.00'))\n",
      "(50, Decimal('8200.00'), Decimal('2100.00'))\n",
      "(60, Decimal('9000.00'), Decimal('4200.00'))\n",
      "(70, Decimal('10000.00'), Decimal('10000.00'))\n",
      "(80, Decimal('14000.00'), Decimal('6100.00'))\n",
      "(90, Decimal('24000.00'), Decimal('17000.00'))\n",
      "(100, Decimal('12000.00'), Decimal('6900.00'))\n",
      "(110, Decimal('12000.00'), Decimal('8300.00'))\n"
     ]
    }
   ],
   "source": [
    "hr_db_cursor.execute(\"SELECT department_id, max(salary), min(salary) FROM EMPLOYEES group by department_id\")\n",
    "\n",
    "for employee in hr_db_cursor:\n",
    "    print(employee)"
   ]
  },
  {
   "cell_type": "code",
   "execution_count": null,
   "id": "97926354",
   "metadata": {},
   "outputs": [],
   "source": []
  }
 ],
 "metadata": {
  "kernelspec": {
   "display_name": "Python 3 (ipykernel)",
   "language": "python",
   "name": "python3"
  },
  "language_info": {
   "codemirror_mode": {
    "name": "ipython",
    "version": 3
   },
   "file_extension": ".py",
   "mimetype": "text/x-python",
   "name": "python",
   "nbconvert_exporter": "python",
   "pygments_lexer": "ipython3",
   "version": "3.9.7"
  }
 },
 "nbformat": 4,
 "nbformat_minor": 5
}
